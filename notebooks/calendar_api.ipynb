{
 "cells": [
  {
   "cell_type": "markdown",
   "metadata": {},
   "source": [
    "# Google Calendar API\n",
    "\n",
    "[Descripción general de la API de Google Calendar  |  Google for Developers](https://developers.google.com/calendar/api/guides/overview?hl=es-419)\n",
    "\n",
    "Guía rapida obtener credenciales de autenticación y los eventos de un calendario:"
   ]
  },
  {
   "cell_type": "code",
   "execution_count": null,
   "metadata": {},
   "outputs": [],
   "source": [
    "# Dependencies\n",
    "%pip install --upgrade google-api-python-client google-auth-httplib2 google-auth-oauthlib"
   ]
  },
  {
   "cell_type": "code",
   "execution_count": 1,
   "metadata": {},
   "outputs": [
    {
     "name": "stdout",
     "output_type": "stream",
     "text": [
      "Please visit this URL to authorize this application: https://accounts.google.com/o/oauth2/auth?response_type=code&client_id=69722697557-n13nrkrq7t630sthrt70fucdcmn19hsl.apps.googleusercontent.com&redirect_uri=http%3A%2F%2Flocalhost%3A51582%2F&scope=https%3A%2F%2Fwww.googleapis.com%2Fauth%2Fcalendar.readonly&state=egQvmqpsqsYXGEHG5FEcVpKlmFLF9I&access_type=offline\n",
      "Getting the upcoming 10 events\n",
      "2024-12-10T10:00:00-06:00 Reunion con el equipo\n"
     ]
    }
   ],
   "source": [
    "import datetime\n",
    "import os.path\n",
    "\n",
    "from google.auth.transport.requests import Request\n",
    "from google.oauth2.credentials import Credentials\n",
    "from google_auth_oauthlib.flow import InstalledAppFlow\n",
    "from googleapiclient.discovery import build\n",
    "from googleapiclient.errors import HttpError\n",
    "\n",
    "# If modifying these scopes, delete the file token.json.\n",
    "SCOPES = [\"https://www.googleapis.com/auth/calendar.readonly\"]\n",
    "\n",
    "\n",
    "def main():\n",
    "  \"\"\"Shows basic usage of the Google Calendar API.\n",
    "  Prints the start and name of the next 10 events on the user's calendar.\n",
    "  \"\"\"\n",
    "  creds = None\n",
    "  # The file token.json stores the user's access and refresh tokens, and is\n",
    "  # created automatically when the authorization flow completes for the first\n",
    "  # time.\n",
    "  if os.path.exists(\"token.json\"):\n",
    "    creds = Credentials.from_authorized_user_file(\"token.json\", SCOPES)\n",
    "  # If there are no (valid) credentials available, let the user log in.\n",
    "  if not creds or not creds.valid:\n",
    "    if creds and creds.expired and creds.refresh_token:\n",
    "      creds.refresh(Request())\n",
    "    else:\n",
    "      flow = InstalledAppFlow.from_client_secrets_file(\n",
    "          \"credentials.json\", SCOPES\n",
    "      )\n",
    "      creds = flow.run_local_server(port=0)\n",
    "    # Save the credentials for the next run\n",
    "    with open(\"token.json\", \"w\") as token:\n",
    "      token.write(creds.to_json())\n",
    "\n",
    "  try:\n",
    "    service = build(\"calendar\", \"v3\", credentials=creds)\n",
    "\n",
    "    # Call the Calendar API\n",
    "    # now = datetime.datetime.utcnow().isoformat() + \"Z\"  # 'Z' indicates UTC time\n",
    "    now = datetime.datetime.now(datetime.UTC).isoformat().rsplit(\"+\", 1)[0] + \"Z\"\n",
    "    print(\"Getting the upcoming 10 events\")\n",
    "    events_result = (\n",
    "        service.events()\n",
    "        .list(\n",
    "            calendarId=\"primary\",\n",
    "            timeMin=now,\n",
    "            maxResults=10,\n",
    "            singleEvents=True,\n",
    "            orderBy=\"startTime\",\n",
    "        )\n",
    "        .execute()\n",
    "    )\n",
    "    events = events_result.get(\"items\", [])\n",
    "\n",
    "    if not events:\n",
    "      print(\"No upcoming events found.\")\n",
    "      return\n",
    "\n",
    "    # Prints the start and name of the next 10 events\n",
    "    for event in events:\n",
    "      start = event[\"start\"].get(\"dateTime\", event[\"start\"].get(\"date\"))\n",
    "      print(start, event[\"summary\"])\n",
    "\n",
    "  except HttpError as error:\n",
    "    print(f\"An error occurred: {error}\")\n",
    "\n",
    "\n",
    "if __name__ == \"__main__\":\n",
    "  main()"
   ]
  },
  {
   "cell_type": "markdown",
   "metadata": {},
   "source": [
    "---\n",
    "\n",
    "## Clase Calendar \n",
    "\n",
    "**Para interactuar con la API de Google Calendar, se puede utilizar la clase `Calendar` que tiene los siguientes métodos:**\n",
    "\n",
    "- `get_credentials()`: Obtiene las credenciales de autenticación.\n",
    "- `get_service()`: Obtiene el servicio de Google Calendar.\n",
    "- `get_calendars_info()`: Obtiene la información de todos los calendarios que el usuario puede editar.\n",
    "- `create_event_body()`: Crea el cuerpo de un evento.\n",
    "- `create_allday_event_body()`: Crea el cuerpo de un evento de todo el día.\n",
    "- `create_event()`: Crea un evento (con el cuerpo del evento).\n",
    "- `get_current_time()`: Obtiene la fecha y hora actual.\n",
    "- `plus_time()`: Suma un tiempo a una fecha dada.\n",
    "- `get_events()`: Obtiene los eventos de un calendario.\n",
    "- `delete_event()`: Elimina un evento de un calendario.\n",
    "- `move_event()`: Mueve un evento de un calendario a otro.\n",
    "- `get_event()`: Obtiene un evento de un calendario.\n",
    "- `update_event()`: Actualiza un evento de un calendario."
   ]
  },
  {
   "cell_type": "code",
   "execution_count": 27,
   "metadata": {},
   "outputs": [],
   "source": [
    "from pprint import pprint\n",
    "\n",
    "import os.path\n",
    "from typing import Any, List, Dict, Optional, Literal\n",
    "from datetime import datetime, timedelta\n",
    "\n",
    "from google.auth.transport.requests import Request\n",
    "from google.oauth2.credentials import Credentials\n",
    "from google_auth_oauthlib.flow import InstalledAppFlow\n",
    "from googleapiclient.discovery import build\n",
    "from googleapiclient.errors import HttpError\n",
    "\n",
    "\n",
    "# If modifying these scopes, delete the file token.json.\n",
    "SCOPES = [\"https://www.googleapis.com/auth/calendar\"]\n",
    "\n",
    "UpdateType = Literal['none', 'all', 'externalOnly']\n",
    "Colors = Literal['1', '2', '3', '4', '5', '6', '7', '8', '9', '10', '11']\n",
    "Disponibility = Literal['opaque', 'transparent']\n",
    "\n",
    "class Calendar():\n",
    "    @classmethod\n",
    "    def get_credentials(cls, secrets_path: str):\n",
    "        creds = None\n",
    "        if os.path.exists(secrets_path+\"token.json\"):\n",
    "            creds = Credentials.from_authorized_user_file(secrets_path+\"token.json\", SCOPES)\n",
    "        # If there are no (valid) credentials available, let the user log in.\n",
    "        if not creds or not creds.valid:\n",
    "            if creds and creds.expired and creds.refresh_token:\n",
    "                creds.refresh(Request())\n",
    "            else:\n",
    "                flow = InstalledAppFlow.from_client_secrets_file(\n",
    "                    secrets_path+\"credentials.json\", SCOPES\n",
    "                )\n",
    "                creds = flow.run_local_server(port=0)\n",
    "            # Save the credentials for the next run\n",
    "            with open(secrets_path+\"token.json\", \"w\") as token:\n",
    "                token.write(creds.to_json())\n",
    "            return creds\n",
    "        \n",
    "    @classmethod\n",
    "    def get_service(cls, secrets_path: str = \"../secrets/\"):\n",
    "        creds = cls.get_credentials(secrets_path)\n",
    "        return build(\"calendar\", \"v3\", credentials=creds)\n",
    "    \n",
    "    @classmethod\n",
    "    def get_calendars_info(cls, service: Any) -> List[Dict[str, str]]:\n",
    "        calendars = service.calendarList().list().execute()\n",
    "        data = []\n",
    "        for item in calendars.get('items', []):\n",
    "            if item['accessRole'] != 'reader':\n",
    "                data.append({\n",
    "                    'id': item['id'], \n",
    "                    'summary': item['summary'],\n",
    "                    'timeZone': item['timeZone']})\n",
    "        return data\n",
    "    \n",
    "    @classmethod\n",
    "    def create_event_body(cls, \n",
    "                          summary: str, \n",
    "                          start_time: str,\n",
    "                          end_time: str,\n",
    "                          timezone: Optional[str] = 'America/Mexico_City',\n",
    "                          location: Optional[str] = None,\n",
    "                          description: Optional[str] = None,\n",
    "                          recurrence: Optional[List[str]] = None,\n",
    "                          attendees: Optional[List[Dict[str, str]]] = None,\n",
    "                          reminders: Optional[Dict[str, Any]] = None,\n",
    "                          conference_data: Optional[Dict[str, dict]] = None,\n",
    "                          color: Optional[Colors] = None, \n",
    "                          transparency: Optional[Disponibility] = 'opaque'\n",
    "                        ) -> Dict[str, Any]:\n",
    "        return {\n",
    "            \"summary\": summary,\n",
    "            \"location\": location,\n",
    "            \"description\": description,\n",
    "            \"start\": {\"dateTime\": start_time, \"timeZone\": timezone},\n",
    "            \"end\": {\"dateTime\": end_time, \"timeZone\": timezone},\n",
    "            \"recurrence\": recurrence,\n",
    "            \"attendees\": attendees,\n",
    "            \"reminders\": reminders,\n",
    "            \"conferenceData\": conference_data, \n",
    "            \"colorId\": color, \n",
    "            \"transparency\": transparency\n",
    "        }\n",
    "    \n",
    "    @classmethod\n",
    "    def create_allday_event_body(cls, \n",
    "                          summary: str, \n",
    "                          start_time: str,\n",
    "                          end_time: str,\n",
    "                          timezone: Optional[str] = 'America/Mexico_City',\n",
    "                          location: Optional[str] = None,\n",
    "                          description: Optional[str] = None,\n",
    "                          recurrence: Optional[List[str]] = None,\n",
    "                          attendees: Optional[List[Dict[str, str]]] = None,\n",
    "                          reminders: Optional[Dict[str, Any]] = None,\n",
    "                          conference_data: Optional[Dict[str, dict]] = None,\n",
    "                          color: Optional[str] = None\n",
    "                        ) -> Dict[str, Any]:\n",
    "        return {\n",
    "            \"summary\": summary,\n",
    "            \"location\": location,\n",
    "            \"description\": description,\n",
    "            \"start\": {\"date\": start_time, \"timeZone\": timezone},\n",
    "            \"end\": {\"date\": end_time, \"timeZone\": timezone},\n",
    "            \"recurrence\": recurrence,\n",
    "            \"attendees\": attendees,\n",
    "            \"reminders\": reminders,\n",
    "            \"conferenceData\": conference_data, \n",
    "            \"colorId\": color\n",
    "        }\n",
    "    \n",
    "    @classmethod\n",
    "    def create_event(cls, service: Any,\n",
    "                     body: Dict, \n",
    "                     calendarId: str = 'primary', \n",
    "                     conferenceData: int = 0) -> str:\n",
    "    \n",
    "        event = service.events().insert(calendarId=calendarId, \n",
    "                                        body=body, \n",
    "                                        conferenceDataVersion=conferenceData).execute()\n",
    "        return event.get('htmlLink')\n",
    "    \n",
    "    @classmethod\n",
    "    def get_current_time(cls) -> str:\n",
    "        return datetime.now().astimezone().replace(microsecond=0).isoformat()\n",
    "\n",
    "    @classmethod\n",
    "    def plus_time(cls, current_datetime: str, minutes: int) -> str:\n",
    "        date_object = datetime.fromisoformat(current_datetime).strftime('%Y-%m-%d %H:%M:%S')\n",
    "        new_date = datetime.strptime(date_object, '%Y-%m-%d %H:%M:%S') + timedelta(minutes=minutes)\n",
    "        return new_date.replace(microsecond=0).isoformat()\n",
    "    \n",
    "    @classmethod\n",
    "    def get_events(cls, service: Any, calendarId: str = 'primary', \n",
    "                   maxResults: int = 10, min_time: Optional[str] = None, \n",
    "                   max_time: Optional[str] = None, single_events: Optional[bool] = True, \n",
    "                   query: Optional[str] = None\n",
    "                   ) -> List[Dict[str, str]]:\n",
    "        events_data = []\n",
    "        events_result = service.events().list(calendarId=calendarId,\n",
    "                                              timeMin=min_time if min_time else cls.get_current_time(),\n",
    "                                              timeMax=max_time,\n",
    "                                              maxResults=maxResults,\n",
    "                                              singleEvents=single_events,\n",
    "                                              q=query,\n",
    "                                              orderBy='startTime').execute()\n",
    "        events = events_result.get('items', [])\n",
    "        try: \n",
    "            for event in events:\n",
    "                events_data.append({\n",
    "                        'id': event['id'], \n",
    "                        'start': event[\"start\"].get(\"dateTime\"), \n",
    "                        'end': event[\"end\"].get(\"dateTime\"),\n",
    "                        'summary': event['summary'], \n",
    "                        'htmlLink': event.get('htmlLink'), \n",
    "                        'creator': event.get('creator').get('email'),\n",
    "                        'organizer': event.get('organizer').get('email'),\n",
    "                        })\n",
    "        except KeyError as error:\n",
    "            raise KeyError(f\"An error occurred: {error}\")\n",
    "        return events_data\n",
    "    \n",
    "    @classmethod\n",
    "    def delete_event(cls, service: Any,  eventId: str, calendarId: str = 'primary',\n",
    "                     sendUpdates: Optional[UpdateType] = 'none') -> None:\n",
    "        try:\n",
    "            service.events().delete(calendarId=calendarId, eventId=eventId, sendUpdates=sendUpdates).execute()\n",
    "        except HttpError as error:\n",
    "            print(f\"An error occurred: {error}\")\n",
    "\n",
    "    @classmethod\n",
    "    def move_event(cls, service: Any, eventId: str,\n",
    "                   destination: str,\n",
    "                   origin: str = 'primary', \n",
    "                   send_updates: Optional[UpdateType] = 'none') -> str:\n",
    "        \n",
    "        updated_event = service.events().move(\n",
    "            calendarId=origin, eventId=eventId,\n",
    "            destination=destination,\n",
    "            sendUpdates=send_updates).execute()\n",
    "        return updated_event['htmlLink']\n",
    "    \n",
    "    @classmethod\n",
    "    def get_event(cls, service: Any, eventId: str, calendarId: str = 'primary') -> Any:\n",
    "        event = service.events().get(calendarId=calendarId, eventId=eventId).execute()\n",
    "        return event\n",
    "\n",
    "    @classmethod\n",
    "    def update_event(cls, service: Any, event: Dict[str, Any],\n",
    "                     calendarId: str = 'primary',\n",
    "                     send_updates: Optional[UpdateType] = 'none') -> str:\n",
    "        updated_event = service.events().update(calendarId=calendarId,\n",
    "                                                eventId=event['id'], body=event,\n",
    "                                                sendUpdates=send_updates).execute()\n",
    "        return updated_event['htmlLink']"
   ]
  },
  {
   "cell_type": "markdown",
   "metadata": {},
   "source": [
    "### Ejemplos"
   ]
  },
  {
   "cell_type": "code",
   "execution_count": 3,
   "metadata": {},
   "outputs": [
    {
     "name": "stdout",
     "output_type": "stream",
     "text": [
      "Please visit this URL to authorize this application: https://accounts.google.com/o/oauth2/auth?response_type=code&client_id=69722697557-n13nrkrq7t630sthrt70fucdcmn19hsl.apps.googleusercontent.com&redirect_uri=http%3A%2F%2Flocalhost%3A49846%2F&scope=https%3A%2F%2Fwww.googleapis.com%2Fauth%2Fcalendar&state=O9XUFhvioLancULF8dTweKnhnG11SL&access_type=offline\n"
     ]
    }
   ],
   "source": [
    "service = Calendar.get_service()"
   ]
  },
  {
   "cell_type": "markdown",
   "metadata": {},
   "source": [
    "##### Creación de un evento de 40 min"
   ]
  },
  {
   "cell_type": "code",
   "execution_count": 92,
   "metadata": {},
   "outputs": [
    {
     "data": {
      "text/plain": [
       "'https://www.google.com/calendar/event?eid=Y2M4a3BqNnV1aWFxYnJvN3ZuaWkydWRmYTQgam9yZ2VhbmczM0Bt'"
      ]
     },
     "execution_count": 92,
     "metadata": {},
     "output_type": "execute_result"
    }
   ],
   "source": [
    "now = Calendar.get_current_time()\n",
    "now_plus_40_min= Calendar.plus_time(now, 40)\n",
    "\n",
    "body = Calendar.create_event_body(\n",
    "    summary=\"test event\",\n",
    "    start_time=now,\n",
    "    end_time=now_plus_40_min,\n",
    ")\n",
    "\n",
    "Calendar.create_event(service, body)"
   ]
  },
  {
   "cell_type": "markdown",
   "metadata": {},
   "source": [
    "##### Creación de un evento de todo el día"
   ]
  },
  {
   "cell_type": "code",
   "execution_count": 97,
   "metadata": {},
   "outputs": [
    {
     "data": {
      "text/plain": [
       "'https://www.google.com/calendar/event?eid=ZDB1ZXNwOXZlNzk0cGs3YW9vbWRzaWtoaGsgam9yZ2VhbmczM0Bt'"
      ]
     },
     "execution_count": 97,
     "metadata": {},
     "output_type": "execute_result"
    }
   ],
   "source": [
    "from datetime import datetime, timedelta\n",
    "\n",
    "now = Calendar.get_current_time()\n",
    "today = datetime.fromisoformat(now) - timedelta(minutes=(datetime.fromisoformat(now).minute))\n",
    "\n",
    "body = Calendar.create_allday_event_body(\n",
    "    summary=\"all day Event\",\n",
    "    start_time=today.strftime('%Y-%m-%d'),\n",
    "    end_time=(today + timedelta(days=1)).strftime('%Y-%m-%d'),\n",
    ")\n",
    "\n",
    "Calendar.create_event(service, body)"
   ]
  },
  {
   "cell_type": "markdown",
   "metadata": {},
   "source": [
    "##### Creación de un evento con recurrencia"
   ]
  },
  {
   "cell_type": "code",
   "execution_count": 99,
   "metadata": {},
   "outputs": [
    {
     "data": {
      "text/plain": [
       "'https://www.google.com/calendar/event?eid=MmpmaHIyOXRjMTR0MW5mcHJzcGVwcGZlMjhfMjAyNDEwMjJUMDQxMTAwWiBqb3JnZWFuZzMzQG0'"
      ]
     },
     "execution_count": 99,
     "metadata": {},
     "output_type": "execute_result"
    }
   ],
   "source": [
    "now = Calendar.get_current_time()\n",
    "now_plus_40_min= Calendar.plus_time(now, 40)\n",
    "\n",
    "body = Calendar.create_event_body(\n",
    "    summary=\"test recurrence event\",\n",
    "    start_time=now,\n",
    "    end_time=now_plus_40_min,\n",
    "    recurrence=['RRULE:FREQ=DAILY;COUNT=2']\n",
    ")\n",
    "\n",
    "Calendar.create_event(service, body)"
   ]
  },
  {
   "cell_type": "markdown",
   "metadata": {},
   "source": [
    "##### Creación de un evento con invitados"
   ]
  },
  {
   "cell_type": "code",
   "execution_count": 100,
   "metadata": {},
   "outputs": [
    {
     "data": {
      "text/plain": [
       "'https://www.google.com/calendar/event?eid=OHBlZG43cWprZ2pwdDcxNnFyZmluZjVtcWsgam9yZ2VhbmczM0Bt'"
      ]
     },
     "execution_count": 100,
     "metadata": {},
     "output_type": "execute_result"
    }
   ],
   "source": [
    "now = Calendar.get_current_time()\n",
    "now_plus_40_min= Calendar.plus_time(now, 40)\n",
    "\n",
    "body = Calendar.create_event_body(\n",
    "    summary=\"test attendees event\",\n",
    "    start_time=now,\n",
    "    end_time=now_plus_40_min,\n",
    "    attendees=[{'email': 'juan@example.com'},\n",
    "               {'email': 'pedro@example.com'}]\n",
    ")\n",
    "\n",
    "Calendar.create_event(service, body)"
   ]
  },
  {
   "cell_type": "markdown",
   "metadata": {},
   "source": [
    "##### Creación de un evento con recordatorio"
   ]
  },
  {
   "cell_type": "code",
   "execution_count": 101,
   "metadata": {},
   "outputs": [
    {
     "data": {
      "text/plain": [
       "'https://www.google.com/calendar/event?eid=Z3I1MjN2bmwwMmwydjdhZXFwZ2gzMWZnYjggam9yZ2VhbmczM0Bt'"
      ]
     },
     "execution_count": 101,
     "metadata": {},
     "output_type": "execute_result"
    }
   ],
   "source": [
    "now = Calendar.get_current_time()\n",
    "now_plus_40_min= Calendar.plus_time(now, 40)\n",
    "\n",
    "body = Calendar.create_event_body(\n",
    "    summary=\"test reminders event\",\n",
    "    start_time=now,\n",
    "    end_time=now_plus_40_min,\n",
    "    reminders={\n",
    "        'useDefault': False,\n",
    "        'overrides': [\n",
    "            {'method': 'email', 'minutes': 24 * 60},\n",
    "            {'method': 'popup', 'minutes': 10},\n",
    "        ],\n",
    "    }\n",
    ")\n",
    "\n",
    "Calendar.create_event(service, body)"
   ]
  },
  {
   "cell_type": "markdown",
   "metadata": {},
   "source": [
    "##### Creación de un evento con conferencia de Google Meet"
   ]
  },
  {
   "cell_type": "code",
   "execution_count": 102,
   "metadata": {},
   "outputs": [
    {
     "data": {
      "text/plain": [
       "'https://www.google.com/calendar/event?eid=MTRnOTQwNmxhM3Q4bzZxbWlsYTU2anFoc2cgam9yZ2VhbmczM0Bt'"
      ]
     },
     "execution_count": 102,
     "metadata": {},
     "output_type": "execute_result"
    }
   ],
   "source": [
    "from uuid import uuid4\n",
    "\n",
    "\n",
    "now = Calendar.get_current_time()\n",
    "now_plus_40_min = Calendar.plus_time(now, 40)\n",
    "\n",
    "body = Calendar.create_event_body(\n",
    "    summary=\"test event with conference\",\n",
    "    start_time=now,\n",
    "    end_time=now_plus_40_min,\n",
    "    conference_data={\n",
    "        \"createRequest\": {\n",
    "            \"requestId\": str(uuid4()),\n",
    "            \"conferenceSolutionKey\": {\n",
    "                \"type\": \"hangoutsMeet\"\n",
    "            }\n",
    "        }\n",
    "    }\n",
    ")\n",
    "\n",
    "Calendar.create_event(service, body, conferenceData=1)"
   ]
  },
  {
   "cell_type": "markdown",
   "metadata": {},
   "source": [
    "##### Creación de un evento con diferente color"
   ]
  },
  {
   "cell_type": "code",
   "execution_count": 104,
   "metadata": {},
   "outputs": [
    {
     "data": {
      "text/plain": [
       "'https://www.google.com/calendar/event?eid=djNkZzduMG91OTBtOGJraDQ4bjRtMjBmYmsgam9yZ2VhbmczM0Bt'"
      ]
     },
     "execution_count": 104,
     "metadata": {},
     "output_type": "execute_result"
    }
   ],
   "source": [
    "now = Calendar.get_current_time()\n",
    "now_plus_40_min= Calendar.plus_time(now, 40)\n",
    "\n",
    "body = Calendar.create_event_body(\n",
    "    summary=\"test event with different color\",\n",
    "    start_time=now,\n",
    "    end_time=now_plus_40_min,\n",
    "    color='10'\n",
    ")\n",
    "\n",
    "Calendar.create_event(service, body)"
   ]
  },
  {
   "cell_type": "markdown",
   "metadata": {},
   "source": [
    "##### Creación de un evento con modificación de disponibilidad"
   ]
  },
  {
   "cell_type": "code",
   "execution_count": 108,
   "metadata": {},
   "outputs": [
    {
     "data": {
      "text/plain": [
       "'https://www.google.com/calendar/event?eid=c3NqYTUzaGhybDVqdjQ2Yzc5bG51cDR2Y3Mgam9yZ2VhbmczM0Bt'"
      ]
     },
     "execution_count": 108,
     "metadata": {},
     "output_type": "execute_result"
    }
   ],
   "source": [
    "now = Calendar.get_current_time()\n",
    "now_plus_40_min= Calendar.plus_time(now, 40)\n",
    "\n",
    "body = Calendar.create_event_body(\n",
    "    summary=\"test event with disponibility\",\n",
    "    start_time=now,\n",
    "    end_time=now_plus_40_min,\n",
    "    transparency='transparent' # Disponible\n",
    "    # transparency='opaque' # Ocupado\n",
    ")\n",
    "\n",
    "Calendar.create_event(service, body)"
   ]
  },
  {
   "cell_type": "markdown",
   "metadata": {},
   "source": [
    "**Creación de eventos con texto:**"
   ]
  },
  {
   "cell_type": "code",
   "execution_count": 45,
   "metadata": {},
   "outputs": [],
   "source": [
    "created_event = service.events().quickAdd(\n",
    "    calendarId='primary',\n",
    "    text='Salida con amigos').execute()"
   ]
  },
  {
   "cell_type": "markdown",
   "metadata": {},
   "source": [
    "---\n",
    "\n",
    "##### Actualización de un evento \n",
    "\n",
    "Con la utilidad de obtener un evento por su id, se puede actualizar un evento, y se puede enviar un correo a los invitados notificando la actualización."
   ]
  },
  {
   "cell_type": "code",
   "execution_count": 10,
   "metadata": {},
   "outputs": [
    {
     "name": "stdout",
     "output_type": "stream",
     "text": [
      "[{'creator': 'jorgeang33@gmail.com',\n",
      "  'end': '2024-10-22T14:00:00-06:00',\n",
      "  'htmlLink': 'https://www.google.com/calendar/event?eid=NTVzM3A1djJjc24xN2lvanVjcDhmczZycXMgam9yZ2VhbmczM0Bt',\n",
      "  'id': '55s3p5v2csn17iojucp8fs6rqs',\n",
      "  'organizer': 'jorgeang33@gmail.com',\n",
      "  'start': '2024-10-22T12:00:00-06:00',\n",
      "  'summary': 'Updated Event with updates'}]\n"
     ]
    },
    {
     "data": {
      "text/plain": [
       "'https://www.google.com/calendar/event?eid=NTVzM3A1djJjc24xN2lvanVjcDhmczZycXMgam9yZ2VhbmczM0Bt'"
      ]
     },
     "execution_count": 10,
     "metadata": {},
     "output_type": "execute_result"
    }
   ],
   "source": [
    "from pprint import pprint\n",
    "\n",
    "\n",
    "events = Calendar.get_events(service)\n",
    "pprint(events)\n",
    "event = Calendar.get_event(service, eventId=events[0]['id'], calendarId=events[0]['organizer'])\n",
    "event['summary'] = 'Updated Event with updates'\n",
    "event.update({'description': 'Se añade una descripcion al evento'})\n",
    "event.update({'colorId': '3'})\n",
    "Calendar.update_event(service, event, calendarId=events[0]['organizer'], send_updates='all')"
   ]
  },
  {
   "cell_type": "markdown",
   "metadata": {},
   "source": [
    "---\n",
    "\n",
    "##### Movimiento de un evento de un calendario a otro\n",
    "Sin notificación a los invitados."
   ]
  },
  {
   "cell_type": "code",
   "execution_count": 25,
   "metadata": {},
   "outputs": [
    {
     "name": "stdout",
     "output_type": "stream",
     "text": [
      "[{'id': '9a1c2703ead6fd80455f9e1eb04158669a60d7ab77a8a29ea9ae8d530954b4f7@group.calendar.google.com',\n",
      "  'summary': 'Familia',\n",
      "  'timeZone': 'America/Mexico_City'},\n",
      " {'id': 'stdevelopersyelling@gmail.com',\n",
      "  'summary': 'stdevelopersyelling@gmail.com',\n",
      "  'timeZone': 'America/Mexico_City'},\n",
      " {'id': 'jorgeang33@gmail.com',\n",
      "  'summary': 'jorgeang33@gmail.com',\n",
      "  'timeZone': 'America/Mexico_City'}]\n"
     ]
    },
    {
     "data": {
      "text/plain": [
       "'https://www.google.com/calendar/event?eid=N2pmN2JodGlxcmlhN2tqMmExYjg5czAwc24gam9yZ2VhbmczM0Bt'"
      ]
     },
     "execution_count": 25,
     "metadata": {},
     "output_type": "execute_result"
    }
   ],
   "source": [
    "from pprint import pprint\n",
    "\n",
    "\n",
    "calendars = Calendar.get_calendars_info(service)\n",
    "pprint(calendars)\n",
    "events = Calendar.get_events(service)\n",
    "event = Calendar.get_event(service, \n",
    "                           eventId=events[0]['id'],\n",
    "                           calendarId=events[0]['organizer'])\n",
    "\n",
    "Calendar.move_event(service, eventId=event['id'], destination=calendars[0]['id'])"
   ]
  },
  {
   "cell_type": "markdown",
   "metadata": {},
   "source": [
    "##### Movimiento de un evento de un calendario a otro\n",
    "Con notificación a los invitados."
   ]
  },
  {
   "cell_type": "code",
   "execution_count": null,
   "metadata": {},
   "outputs": [],
   "source": [
    "calendars = Calendar.get_calendars_info(service)\n",
    "events = Calendar.get_events(service)\n",
    "event = Calendar.get_event(service, \n",
    "                           eventId=events[0]['id'],\n",
    "                           calendarId=events[0]['organizer'])\n",
    "\n",
    "Calendar.move_event(service, eventId=event['id'], destination=calendars[1]['id'], send_updates='all')"
   ]
  },
  {
   "cell_type": "markdown",
   "metadata": {},
   "source": [
    "---\n",
    "\n",
    "##### Eliminación de un evento"
   ]
  },
  {
   "cell_type": "code",
   "execution_count": 33,
   "metadata": {},
   "outputs": [
    {
     "name": "stdout",
     "output_type": "stream",
     "text": [
      "[{'id': '9a1c2703ead6fd80455f9e1eb04158669a60d7ab77a8a29ea9ae8d530954b4f7@group.calendar.google.com',\n",
      "  'summary': 'Familia',\n",
      "  'timeZone': 'America/Mexico_City'},\n",
      " {'id': 'stdevelopersyelling@gmail.com',\n",
      "  'summary': 'stdevelopersyelling@gmail.com',\n",
      "  'timeZone': 'America/Mexico_City'},\n",
      " {'id': 'jorgeang33@gmail.com',\n",
      "  'summary': 'jorgeang33@gmail.com',\n",
      "  'timeZone': 'America/Mexico_City'}]\n",
      "[{'creator': 'jorgeang33@gmail.com',\n",
      "  'end': '2024-10-22T15:00:00-06:00',\n",
      "  'htmlLink': 'https://www.google.com/calendar/event?eid=N2pmN2JodGlxcmlhN2tqMmExYjg5czAwc24gam9yZ2VhbmczM0Bt',\n",
      "  'id': '7jf7bhtiqria7kj2a1b89s00sn',\n",
      "  'organizer': 'jorgeang33@gmail.com',\n",
      "  'start': '2024-10-22T13:00:00-06:00',\n",
      "  'summary': 'Evento random'}]\n"
     ]
    }
   ],
   "source": [
    "from pprint import pprint\n",
    "\n",
    "\n",
    "calendars = Calendar.get_calendars_info(service)\n",
    "pprint(calendars)\n",
    "events = Calendar.get_events(service)\n",
    "pprint(events)\n",
    "event = Calendar.get_event(service, \n",
    "                           eventId=events[0]['id'],\n",
    "                           calendarId=events[0]['organizer'])\n",
    "\n",
    "Calendar.delete_event(service, eventId=event['id'],\n",
    "                      calendarId=events[0]['organizer'],\n",
    "                      sendUpdates='all')"
   ]
  }
 ],
 "metadata": {
  "kernelspec": {
   "display_name": "zolkin-backend-dA_7IZFM",
   "language": "python",
   "name": "python3"
  },
  "language_info": {
   "codemirror_mode": {
    "name": "ipython",
    "version": 3
   },
   "file_extension": ".py",
   "mimetype": "text/x-python",
   "name": "python",
   "nbconvert_exporter": "python",
   "pygments_lexer": "ipython3",
   "version": "3.12.7"
  }
 },
 "nbformat": 4,
 "nbformat_minor": 2
}
