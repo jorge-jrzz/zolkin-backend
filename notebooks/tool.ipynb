{
 "cells": [
  {
   "cell_type": "code",
   "execution_count": 3,
   "metadata": {},
   "outputs": [
    {
     "name": "stdout",
     "output_type": "stream",
     "text": [
      "multiply\n",
      "Multiply two numbers.\n",
      "{'a': {'anyOf': [{'type': 'integer'}, {'type': 'null'}], 'title': 'A'}, 'b': {'title': 'B', 'type': 'integer'}}\n"
     ]
    }
   ],
   "source": [
    "from langchain_core.tools import tool, StructuredTool\n",
    "from typing import Optional\n",
    "\n",
    "\n",
    "@tool\n",
    "def multiply(a: Optional[int], b: int) -> int:\n",
    "    \"\"\"Multiply two numbers.\"\"\"\n",
    "    return a * b\n",
    "\n",
    "\n",
    "# Let's inspect some of the attributes associated with the tool.\n",
    "print(multiply.name)\n",
    "print(multiply.description)\n",
    "print(multiply.args)"
   ]
  },
  {
   "cell_type": "markdown",
   "metadata": {},
   "source": [
    "---"
   ]
  },
  {
   "cell_type": "code",
   "execution_count": 5,
   "metadata": {},
   "outputs": [],
   "source": [
    "\"\"\"Base class for Google Calendar tools.\"\"\"\n",
    "\n",
    "from __future__ import annotations\n",
    "\n",
    "from typing import TYPE_CHECKING\n",
    "\n",
    "from langchain_core.tools import BaseTool\n",
    "from pydantic import Field\n",
    "\n",
    "from langchain_google_community.gmail.utils import build_resource_service\n",
    "\n",
    "if TYPE_CHECKING:\n",
    "    # This is for linting and IDE typehints\n",
    "    from googleapiclient.discovery import Resource  # type: ignore[import]\n",
    "else:\n",
    "    try:\n",
    "        # We do this so pydantic can resolve the types when instantiating\n",
    "        from googleapiclient.discovery import Resource\n",
    "    except ImportError:\n",
    "        pass\n",
    "\n",
    "class GoogleCalendarBaseTool(BaseTool):\n",
    "    api_resource: Resource = Field(default_factory=build_resource_service)\n",
    "    \n",
    "    @classmethod\n",
    "    def from_api_resource(cls, api_resource: Resource) -> \"GoogleCalendarBaseTool\":\n",
    "        \"\"\"Create a tool from an api resource.\n",
    "\n",
    "        Args:\n",
    "            api_resource: The api resource to use.\n",
    "\n",
    "        Returns:\n",
    "            A tool.\n",
    "        \"\"\"\n",
    "        return cls(api_resource=api_resource)"
   ]
  },
  {
   "cell_type": "code",
   "execution_count": 56,
   "metadata": {},
   "outputs": [],
   "source": [
    "\"\"\"Create an event in Google Calendar.\"\"\"\n",
    "\n",
    "from datetime import datetime\n",
    "from typing import Any, Dict, Optional, Type, Union\n",
    "\n",
    "from langchain_core.callbacks import CallbackManagerForToolRun\n",
    "\n",
    "from pydantic import BaseModel, Field\n",
    "\n",
    "\n",
    "def get_current_datetime() -> str:\n",
    "        \"\"\"Get the current datetime.\"\"\"\n",
    "        return datetime.now().strftime(\"%Y-%m-%d %H:%M:%S\")\n",
    "\n",
    "class CreateEventSchema(BaseModel):\n",
    "    \"\"\"Input for CreateEventTool.\"\"\"\n",
    "\n",
    "    summary: str = Field(\n",
    "        ...,\n",
    "        description=\"The title of the event.\",\n",
    "    )\n",
    "    start_datetime: str = Field(\n",
    "        default=get_current_datetime(),\n",
    "        description=(\"The start datetime for the event in 'YYYY-MM-DD HH:MM:SS' format\"\n",
    "                     \"The current year is 2024\")\n",
    "                    #  \"if not provided in full, or expressions such as 'today', 'tomorrow', 'this afternoon', etc. are used.\"\n",
    "                    #  \"it must be set to 'NOW'.\"),\n",
    "    )\n",
    "    end_datetime: str = Field(\n",
    "        ...,\n",
    "        description=\"The end datetime for the event in 'YYYY-MM-DD HH:MM:SS' format\",\n",
    "    )\n",
    "    location: Optional[str] = Field(\n",
    "        default=None,\n",
    "        description=\"The location of the event.\"\n",
    "    )\n",
    "    description: Optional[str] = Field(\n",
    "        default=None,\n",
    "        description=\"The description of the event.\"\n",
    "    )\n",
    "\n",
    "\n",
    "class CalendarCreateEvent(GoogleCalendarBaseTool):\n",
    "    \"\"\"Tool that create a event in Google Calendar.\"\"\"\n",
    "\n",
    "    name: str = \"create_calendar_event\"\n",
    "    description: str = (\n",
    "        \"Use this tool to create an event.\" \n",
    "        \"The input must be the summary, start and end datetime for the event.\"\n",
    "    )\n",
    "    args_schema: Type[CreateEventSchema] = CreateEventSchema\n",
    "\n",
    "    def __get_timeZone(self) -> str:\n",
    "        \"\"\"Get the timezone of the primary calendar.\"\"\"\n",
    "        calendars = self.api_resource.calendarList().list().execute()\n",
    "        return calendars['items'][0]['timeZone']\n",
    "\n",
    "    def _prepare_event(\n",
    "        self,\n",
    "        summary: str,\n",
    "        start_datetime: str,\n",
    "        end_datetime: str,\n",
    "        location: Optional[str] = None,\n",
    "        description: Optional[str] = None\n",
    "    ) -> Dict[str, Any]:\n",
    "        \"\"\"Prepare the event body.\"\"\"\n",
    "        try: \n",
    "            date_object = datetime.strptime(start_datetime, \"%Y-%m-%d %H:%M:%S\")\n",
    "            start = date_object.astimezone().replace(microsecond=0).isoformat()\n",
    "            date_object = datetime.strptime(end_datetime, \"%Y-%m-%d %H:%M:%S\")\n",
    "            end = date_object.astimezone().replace(microsecond=0).isoformat()\n",
    "        except ValueError:\n",
    "            raise ValueError(\"The datetime format is incorrect. Please use 'YYYY-MM-DD HH:MM:SS' format.\")\n",
    "\n",
    "        timezone = self.__get_timeZone()\n",
    "        \n",
    "        event = {\n",
    "            \"summary\": summary,\n",
    "            \"location\": location,\n",
    "            \"description\": description,\n",
    "            \"start\": {\"dateTime\": start, \"timeZone\": timezone},\n",
    "            \"end\": {\"dateTime\": end, \"timeZone\": timezone},\n",
    "        }\n",
    "        return event\n",
    "    \n",
    "    def _run(\n",
    "        self,\n",
    "        summary: str,\n",
    "        start_datetime: str,\n",
    "        end_datetime: str,\n",
    "        location: Optional[str] = None,\n",
    "        description: Optional[str] = None,\n",
    "        run_manager: Optional[CallbackManagerForToolRun] = None\n",
    "    ) -> str:\n",
    "        \"\"\"Run the tool.\"\"\"\n",
    "        try:\n",
    "            body = self._prepare_event(summary, start_datetime, end_datetime, location=location, description=description)\n",
    "            event = self.api_resource.events().insert(calendarId='primary', body=body).execute()\n",
    "            return event.get('htmlLink')\n",
    "        except Exception as error:\n",
    "            raise Exception(f\"An error occurred: {error}\")\n"
   ]
  },
  {
   "cell_type": "code",
   "execution_count": 57,
   "metadata": {},
   "outputs": [],
   "source": [
    "from __future__ import annotations\n",
    "\n",
    "from typing import TYPE_CHECKING, List\n",
    "\n",
    "from langchain_community.agent_toolkits.base import BaseToolkit\n",
    "from langchain_core.tools import BaseTool\n",
    "from pydantic import ConfigDict, Field\n",
    "\n",
    "from langchain_google_community.gmail.utils import build_resource_service\n",
    "\n",
    "if TYPE_CHECKING:\n",
    "    # This is for linting and IDE typehints\n",
    "    from googleapiclient.discovery import Resource  # type: ignore[import]\n",
    "else:\n",
    "    try:\n",
    "        # We do this so pydantic can resolve the types when instantiating\n",
    "        from googleapiclient.discovery import Resource\n",
    "    except ImportError:\n",
    "        pass\n",
    "\n",
    "\n",
    "SCOPES = [\"https://www.googleapis.com/auth/calendar\"]\n",
    "\n",
    "class GoogleCalendarToolkit(BaseToolkit):\n",
    "    \"\"\"Toolkit for interacting with GoogleCalendar.\"\"\"\n",
    "\n",
    "    api_resource: Resource = Field(default_factory=build_resource_service)\n",
    "\n",
    "    model_config = ConfigDict(\n",
    "        arbitrary_types_allowed=True,\n",
    "    )\n",
    "\n",
    "    def get_tools(self) -> List[BaseTool]:\n",
    "        \"\"\"Get the tools in the toolkit.\"\"\"\n",
    "        return [\n",
    "            CalendarCreateEvent(api_resource=self.api_resource),\n",
    "        ]"
   ]
  },
  {
   "cell_type": "code",
   "execution_count": 58,
   "metadata": {},
   "outputs": [],
   "source": [
    "from langchain_google_community.gmail.utils import (\n",
    "    build_resource_service,\n",
    "    get_gmail_credentials,\n",
    ")\n",
    "\n",
    "\n",
    "# Can review scopes here https://developers.google.com/gmail/api/auth/scopes\n",
    "# For instance, readonly scope is 'https://www.googleapis.com/auth/gmail.readonly'\n",
    "credentials = get_gmail_credentials(\n",
    "    token_file=\"token.json\",\n",
    "    scopes=[\"https://www.googleapis.com/auth/calendar\"],\n",
    "    client_secrets_file=\"credentials.json\",\n",
    ")\n",
    "api_resource = build_resource_service(credentials=credentials, service_name='calendar', service_version='v3')\n",
    "toolkit = GoogleCalendarToolkit(api_resource=api_resource)"
   ]
  },
  {
   "cell_type": "code",
   "execution_count": 59,
   "metadata": {},
   "outputs": [
    {
     "data": {
      "text/plain": [
       "[CalendarCreateEvent(api_resource=<googleapiclient.discovery.Resource object at 0x11ac65160>)]"
      ]
     },
     "execution_count": 59,
     "metadata": {},
     "output_type": "execute_result"
    }
   ],
   "source": [
    "tools = toolkit.get_tools()\n",
    "tools"
   ]
  },
  {
   "cell_type": "code",
   "execution_count": 60,
   "metadata": {},
   "outputs": [],
   "source": [
    "import os\n",
    "from langchain_openai import ChatOpenAI\n",
    "\n",
    "model = ChatOpenAI(model=os.getenv('OPENAI_MODEL'), api_key=os.getenv('OPENAI_API_KEY'))"
   ]
  },
  {
   "cell_type": "code",
   "execution_count": 61,
   "metadata": {},
   "outputs": [],
   "source": [
    "model_with_tools = model.bind_tools(tools)"
   ]
  },
  {
   "cell_type": "code",
   "execution_count": 62,
   "metadata": {},
   "outputs": [
    {
     "name": "stdout",
     "output_type": "stream",
     "text": [
      "ContentString: \n",
      "ToolCalls: [{'name': 'create_calendar_event', 'args': {'summary': 'Reunion con el equipo', 'start_datetime': '2024-12-10 10:00:00', 'end_datetime': '2024-12-10 11:00:00'}, 'id': 'call_BC3xS9ULjfzHwqj6sdiUc5Os', 'type': 'tool_call'}]\n"
     ]
    }
   ],
   "source": [
    "from langchain_core.messages import HumanMessage\n",
    "\n",
    "prompt = \"Create a event in Google Calendar para el 10 de diciembre a las 10:00am con el titulo 'Reunion con el equipo'.\"\n",
    "\n",
    "response = model_with_tools.invoke([HumanMessage(content=prompt)])\n",
    "\n",
    "print(f\"ContentString: {response.content}\")\n",
    "print(f\"ToolCalls: {response.tool_calls}\")"
   ]
  },
  {
   "cell_type": "markdown",
   "metadata": {},
   "source": [
    "---"
   ]
  },
  {
   "cell_type": "code",
   "execution_count": 63,
   "metadata": {},
   "outputs": [],
   "source": [
    "from langgraph.prebuilt import create_react_agent\n",
    "\n",
    "agent_executor = create_react_agent(model, tools)"
   ]
  },
  {
   "cell_type": "code",
   "execution_count": 69,
   "metadata": {},
   "outputs": [
    {
     "name": "stdout",
     "output_type": "stream",
     "text": [
      "================================\u001b[1m Human Message \u001b[0m=================================\n",
      "\n",
      "Create an event with title 'BETO y Alondra' in july 11, 2026 at 10:00am\n",
      "==================================\u001b[1m Ai Message \u001b[0m==================================\n",
      "Tool Calls:\n",
      "  create_calendar_event (call_P392N1KfMqZ22OpEjSBsNqml)\n",
      " Call ID: call_P392N1KfMqZ22OpEjSBsNqml\n",
      "  Args:\n",
      "    summary: BETO y Alondra\n",
      "    start_datetime: 2026-07-11 10:00:00\n",
      "    end_datetime: 2026-07-11 11:00:00\n",
      "=================================\u001b[1m Tool Message \u001b[0m=================================\n",
      "Name: create_calendar_event\n",
      "\n",
      "https://www.google.com/calendar/event?eid=MDBlZDdxcThzbHNoYjFqMG1wOWsyNGI2M3Mgam9yZ2VhbmczM0Bt\n",
      "==================================\u001b[1m Ai Message \u001b[0m==================================\n",
      "\n",
      "The event titled \"BETO y Alondra\" has been created for July 11, 2026, at 10:00 AM. You can view it [here](https://www.google.com/calendar/event?eid=MDBlZDdxcThzbHNoYjFqMG1wOWsyNGI2M3Mgam9yZ2FubzM0Bt).\n"
     ]
    }
   ],
   "source": [
    "example_query = \"Create an event with title 'BETO y Alondra' in july 11, 2026 at 10:00am\"\n",
    "\n",
    "events = agent_executor.stream(\n",
    "    {\"messages\": [(\"user\", example_query)]},\n",
    "    stream_mode=\"values\",\n",
    ")\n",
    "for event in events:\n",
    "    event[\"messages\"][-1].pretty_print()"
   ]
  }
 ],
 "metadata": {
  "kernelspec": {
   "display_name": "zolkin-backend-dA_7IZFM",
   "language": "python",
   "name": "python3"
  },
  "language_info": {
   "codemirror_mode": {
    "name": "ipython",
    "version": 3
   },
   "file_extension": ".py",
   "mimetype": "text/x-python",
   "name": "python",
   "nbconvert_exporter": "python",
   "pygments_lexer": "ipython3",
   "version": "3.12.7"
  }
 },
 "nbformat": 4,
 "nbformat_minor": 2
}
