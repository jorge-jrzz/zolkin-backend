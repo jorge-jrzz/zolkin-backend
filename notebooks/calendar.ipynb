{
 "cells": [
  {
   "cell_type": "code",
   "execution_count": null,
   "metadata": {},
   "outputs": [],
   "source": [
    "# Dependencies\n",
    "%pip install --upgrade google-api-python-client google-auth-httplib2 google-auth-oauthlib"
   ]
  },
  {
   "cell_type": "code",
   "execution_count": null,
   "metadata": {},
   "outputs": [],
   "source": [
    "from datetime import datetime, UTC\n",
    "import os.path\n",
    "\n",
    "from google.auth.transport.requests import Request\n",
    "from google.oauth2.credentials import Credentials\n",
    "from google_auth_oauthlib.flow import InstalledAppFlow\n",
    "from googleapiclient.discovery import build\n",
    "from googleapiclient.errors import HttpError\n",
    "\n",
    "# If modifying these scopes, delete the file token.json.\n",
    "SCOPES = [\"https://www.googleapis.com/auth/calendar\"]\n",
    "\n",
    "\n",
    "def main():\n",
    "  \"\"\"Shows basic usage of the Google Calendar API.\n",
    "  Prints the start and name of the next 10 events on the user's calendar.\n",
    "  \"\"\"\n",
    "  creds = None\n",
    "  # The file token.json stores the user's access and refresh tokens, and is\n",
    "  # created automatically when the authorization flow completes for the first\n",
    "  # time.\n",
    "  if os.path.exists(\"token.json\"):\n",
    "    creds = Credentials.from_authorized_user_file(\"token.json\", SCOPES)\n",
    "  # If there are no (valid) credentials available, let the user log in.\n",
    "  if not creds or not creds.valid:\n",
    "    if creds and creds.expired and creds.refresh_token:\n",
    "      creds.refresh(Request())\n",
    "    else:\n",
    "      flow = InstalledAppFlow.from_client_secrets_file(\n",
    "          \"credentials.json\", SCOPES\n",
    "      )\n",
    "      creds = flow.run_local_server(port=0)\n",
    "    # Save the credentials for the next run\n",
    "    with open(\"token.json\", \"w\") as token:\n",
    "      token.write(creds.to_json())\n",
    "\n",
    "  try:\n",
    "    service = build(\"calendar\", \"v3\", credentials=creds)\n",
    "\n",
    "    # Call the Calendar API\n",
    "    # now = datetime.now(UTC).isoformat() + \"Z\"  # 'Z' indicates UTC time\n",
    "    # now = datetime.utcnow().isoformat() + \"Z\"\n",
    "    now = datetime.now(UTC).isoformat().rsplit(\"+\", 1)[0] + \"Z\"\n",
    "    print(\"Getting the upcoming 10 events \\n now: \", now)\n",
    "    events_result = (\n",
    "        service.events()\n",
    "        .list(\n",
    "            calendarId=\"primary\",\n",
    "            timeMin=now,\n",
    "            maxResults=10,\n",
    "            singleEvents=True,\n",
    "            orderBy=\"startTime\",\n",
    "        )\n",
    "        .execute()\n",
    "    )\n",
    "    events = events_result.get(\"items\", [])\n",
    "\n",
    "    if not events:\n",
    "      print(\"No upcoming events found.\")\n",
    "      return\n",
    "\n",
    "    # Prints the start and name of the next 10 events\n",
    "    for event in events:\n",
    "      start = event[\"start\"].get(\"dateTime\", event[\"start\"].get(\"date\"))\n",
    "      print(start, event[\"summary\"])\n",
    "\n",
    "  except HttpError as error:\n",
    "    print(f\"An error occurred: {error}\")\n",
    "\n",
    "\n",
    "if __name__ == \"__main__\":\n",
    "  main()"
   ]
  },
  {
   "cell_type": "markdown",
   "metadata": {},
   "source": [
    "---"
   ]
  },
  {
   "cell_type": "code",
   "execution_count": 2,
   "metadata": {},
   "outputs": [],
   "source": [
    "\n",
    "import os.path\n",
    "\n",
    "from google.auth.transport.requests import Request\n",
    "from google.oauth2.credentials import Credentials\n",
    "from google_auth_oauthlib.flow import InstalledAppFlow\n",
    "\n",
    "\n",
    "# If modifying these scopes, delete the file token.json.\n",
    "SCOPES = [\"https://www.googleapis.com/auth/calendar\"]\n",
    "\n",
    "\n",
    "def get_credentials():\n",
    "  creds = None\n",
    "  if os.path.exists(\"token.json\"):\n",
    "    creds = Credentials.from_authorized_user_file(\"token.json\", SCOPES)\n",
    "  # If there are no (valid) credentials available, let the user log in.\n",
    "  if not creds or not creds.valid:\n",
    "    if creds and creds.expired and creds.refresh_token:\n",
    "      creds.refresh(Request())\n",
    "    else:\n",
    "      flow = InstalledAppFlow.from_client_secrets_file(\n",
    "          \"credentials.json\", SCOPES\n",
    "      )\n",
    "      creds = flow.run_local_server(port=0)\n",
    "    # Save the credentials for the next run\n",
    "    with open(\"token.json\", \"w\") as token:\n",
    "      token.write(creds.to_json())\n",
    "\n",
    "    return creds"
   ]
  },
  {
   "cell_type": "code",
   "execution_count": 5,
   "metadata": {},
   "outputs": [
    {
     "name": "stdout",
     "output_type": "stream",
     "text": [
      "Please visit this URL to authorize this application: https://accounts.google.com/o/oauth2/auth?response_type=code&client_id=69722697557-n13nrkrq7t630sthrt70fucdcmn19hsl.apps.googleusercontent.com&redirect_uri=http%3A%2F%2Flocalhost%3A57724%2F&scope=https%3A%2F%2Fwww.googleapis.com%2Fauth%2Fcalendar&state=sDrsBJgqErPXoCWt0OuIJfjKsNbq6Z&access_type=offline\n"
     ]
    }
   ],
   "source": [
    "from googleapiclient.discovery import build\n",
    "\n",
    "\n",
    "creds = get_credentials()\n",
    "service = build(\"calendar\", \"v3\", credentials=creds)    "
   ]
  },
  {
   "cell_type": "code",
   "execution_count": 20,
   "metadata": {},
   "outputs": [
    {
     "data": {
      "text/plain": [
       "[{'kind': 'calendar#calendarListEntry',\n",
       "  'id': 'jorgeang33@gmail.com',\n",
       "  'timeZone': 'America/Mexico_City'},\n",
       " {'kind': 'calendar#calendarListEntry',\n",
       "  'id': 'stdevelopersyelling@gmail.com',\n",
       "  'timeZone': 'America/Mexico_City'},\n",
       " {'kind': 'calendar#calendarListEntry',\n",
       "  'id': '9a1c2703ead6fd80455f9e1eb04158669a60d7ab77a8a29ea9ae8d530954b4f7@group.calendar.google.com',\n",
       "  'timeZone': 'America/Mexico_City'}]"
      ]
     },
     "execution_count": 20,
     "metadata": {},
     "output_type": "execute_result"
    }
   ],
   "source": [
    "def get_calendars_info():\n",
    "  # Call the Calendar API\n",
    "  calendars = service.calendarList().list().execute()\n",
    "  data = []\n",
    "  for item in calendars.get('items', []):\n",
    "    if item['accessRole'] != 'reader':\n",
    "      data.append({'kind': item['kind'], 'id': item['id'], 'timeZone': item['timeZone']})\n",
    "  return data\n",
    "\n",
    "\n",
    "get_calendars_info()"
   ]
  },
  {
   "cell_type": "code",
   "execution_count": 23,
   "metadata": {},
   "outputs": [],
   "source": [
    "from typing import Optional, Union, List, Dict, TypeAlias, Literal\n",
    "\n",
    "def create_event_body(summary: str, \n",
    "                      start_time: str,\n",
    "                      end_time: str,\n",
    "                      timezone: str,\n",
    "                      location: Optional[str] = None,\n",
    "                      description: Optional[str] = None,\n",
    "                      recurrence: Optional[List[str]] = None,\n",
    "                      attendees: Optional[List[Dict[str, str]]] = None,\n",
    "                      reminders: Optional[Dict[str, Union[bool, List[Dict[str, Union[str, int]]]]]] = None,\n",
    "                      conference_data: Optional[Dict[str, dict]] = None \n",
    "                      ):\n",
    "    return {\n",
    "        \"summary\": summary,\n",
    "        \"location\": location,\n",
    "        \"description\": description,\n",
    "        \"start\": {\"dateTime\": start_time, \"timeZone\": timezone},\n",
    "        \"end\": {\"dateTime\": end_time, \"timeZone\": timezone},\n",
    "        \"recurrence\": recurrence,\n",
    "        \"attendees\": attendees,\n",
    "        \"reminders\": reminders,\n",
    "        \"conferenceData\": conference_data\n",
    "    }"
   ]
  },
  {
   "cell_type": "code",
   "execution_count": 24,
   "metadata": {},
   "outputs": [],
   "source": [
    "from typing import Dict, TypeAlias, Literal\n",
    "\n",
    "\n",
    "ConferenceData: TypeAlias = Literal[0, 1]\n",
    "# 0: No permite crear una reunión con Google Meet\n",
    "# 1: Permite crear una reunión con Google Meet\n",
    "\n",
    "def create_event(body: Dict, \n",
    "                 calendarId: str = 'primary', \n",
    "                 conferenceData: ConferenceData = 1) -> str:\n",
    "    \n",
    "    event = service.events().insert(calendarId=calendarId, \n",
    "                                    body=body, \n",
    "                                    conferenceDataVersion=conferenceData).execute()\n",
    "    return event.get('htmlLink')"
   ]
  },
  {
   "cell_type": "code",
   "execution_count": 33,
   "metadata": {},
   "outputs": [],
   "source": [
    "from datetime import datetime, timedelta\n",
    "\n",
    "def get_current_time():\n",
    "    return datetime.now().astimezone().replace(microsecond=0).isoformat()\n",
    "\n",
    "def plus_time(current_datetime: str, minutes: int):\n",
    "    date_object = datetime.fromisoformat(current_datetime).strftime('%Y-%m-%d %H:%M:%S')\n",
    "    new_date = datetime.strptime(date_object, '%Y-%m-%d %H:%M:%S') + timedelta(minutes=minutes)\n",
    "    return new_date.replace(microsecond=0).isoformat()"
   ]
  },
  {
   "cell_type": "code",
   "execution_count": 34,
   "metadata": {},
   "outputs": [
    {
     "name": "stdout",
     "output_type": "stream",
     "text": [
      "https://www.google.com/calendar/event?eid=OGZ0NHBtOGllbjIzbW1yZHUxM3RsM2JkNGMgam9yZ2VhbmczM0Bt\n"
     ]
    }
   ],
   "source": [
    "now = get_current_time()\n",
    "end = plus_time(now, 30)\n",
    "\n",
    "event_body = create_event_body(summary='Test Event', start_time=now, end_time=end, timezone='America/Mexico_City')\n",
    "\n",
    "link = create_event(event_body)\n",
    "\n",
    "print(link)"
   ]
  },
  {
   "cell_type": "code",
   "execution_count": 22,
   "metadata": {},
   "outputs": [
    {
     "name": "stdout",
     "output_type": "stream",
     "text": [
      "Event created: https://www.google.com/calendar/event?eid=cmd0Y2NldnU0cHRiYjl1a2pyNTltdWRkaTggam9yZ2VhbmczM0Bt\n"
     ]
    }
   ],
   "source": [
    "# Refer to the Python quickstart on how to setup the environment:\n",
    "# https://developers.google.com/calendar/quickstart/python\n",
    "# Change the scope to 'https://www.googleapis.com/auth/calendar' and delete any\n",
    "# stored credentials.\n",
    "\n",
    "import uuid\n",
    "\n",
    "# event = {\n",
    "#   'summary': 'Evento Random',\n",
    "#   'location': '800 Howard St., San Francisco, CA 94103',\n",
    "#   'description': 'A chance to hear more about Google\\'s developer products.',\n",
    "#   'start': {\n",
    "#     'dateTime': '2024-10-18T19:52:11-07:00',\n",
    "#     'timeZone': 'America/Los_Angeles',\n",
    "#   },\n",
    "#   'end': {\n",
    "#     'dateTime': '2024-10-18T20:52:11-07:00',\n",
    "#     'timeZone': 'America/Los_Angeles',\n",
    "#   },\n",
    "#   'recurrence': [\n",
    "#     'RRULE:FREQ=DAILY;COUNT=2'\n",
    "#   ],\n",
    "#   'attendees': [\n",
    "#     {'email': 'lpage@example.com'},\n",
    "#     {'email': 'sbrin@example.com'},\n",
    "#   ],\n",
    "#   'reminders': {\n",
    "#     'useDefault': False,\n",
    "#     'overrides': [\n",
    "#       {'method': 'email', 'minutes': 24 * 60},\n",
    "#       {'method': 'popup', 'minutes': 10},\n",
    "#     ],\n",
    "#   },\n",
    "#   \"conferenceData\": {\n",
    "#       \"createRequest\": {\n",
    "#         \"requestId\": str(uuid.uuid4()), # Necesario para que funcione\n",
    "#         \"conferenceSolutionKey\": {\n",
    "#           \"type\": \"hangoutsMeet\"\n",
    "#         }\n",
    "#       },\n",
    "#   }\n",
    "# }\n",
    "\n",
    "event = {\n",
    "  'summary': 'Evento Random',\n",
    "  'location': None, \n",
    "  'description': None, \n",
    "  'start': {\n",
    "    'dateTime': '2024-10-18T21:52:11-07:00',\n",
    "    'timeZone': 'America/Los_Angeles',\n",
    "  },\n",
    "  'end': {\n",
    "    'dateTime': '2024-10-18T22:52:11-07:00',\n",
    "    'timeZone': 'America/Los_Angeles',\n",
    "  },\n",
    "  'recurrence': None,\n",
    "  'attendees': None,\n",
    "  'reminders': None,\n",
    "  \"conferenceData\": None\n",
    "}\n",
    "\n",
    "event = service.events().insert(calendarId='primary', body=event, conferenceDataVersion=1).execute()\n",
    "service.events\n",
    "print ('Event created: %s' % (event.get('htmlLink')))\n",
    "\n"
   ]
  }
 ],
 "metadata": {
  "kernelspec": {
   "display_name": "zolkin-backend-gnCmVbxQ",
   "language": "python",
   "name": "python3"
  },
  "language_info": {
   "codemirror_mode": {
    "name": "ipython",
    "version": 3
   },
   "file_extension": ".py",
   "mimetype": "text/x-python",
   "name": "python",
   "nbconvert_exporter": "python",
   "pygments_lexer": "ipython3",
   "version": "3.12.7"
  }
 },
 "nbformat": 4,
 "nbformat_minor": 2
}
