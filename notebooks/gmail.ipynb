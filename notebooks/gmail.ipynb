{
 "cells": [
  {
   "cell_type": "code",
   "execution_count": null,
   "metadata": {},
   "outputs": [],
   "source": [
    "%pip install --upgrade google-api-python-client google-auth-httplib2 google-auth-oauthlib"
   ]
  },
  {
   "cell_type": "code",
   "execution_count": 2,
   "metadata": {},
   "outputs": [
    {
     "name": "stdout",
     "output_type": "stream",
     "text": [
      "Please visit this URL to authorize this application: https://accounts.google.com/o/oauth2/auth?response_type=code&client_id=69722697557-n13nrkrq7t630sthrt70fucdcmn19hsl.apps.googleusercontent.com&redirect_uri=http%3A%2F%2Flocalhost%3A55494%2F&scope=https%3A%2F%2Fwww.googleapis.com%2Fauth%2Fgmail.readonly&state=A0jvh4z1XQ3qAgBfHpMa6PvgZZ6Rz2&access_type=offline\n",
      "Labels:\n",
      "CHAT\n",
      "SENT\n",
      "INBOX\n",
      "IMPORTANT\n",
      "TRASH\n",
      "DRAFT\n",
      "SPAM\n",
      "CATEGORY_FORUMS\n",
      "CATEGORY_UPDATES\n",
      "CATEGORY_PERSONAL\n",
      "CATEGORY_PROMOTIONS\n",
      "CATEGORY_SOCIAL\n",
      "STARRED\n",
      "UNREAD\n"
     ]
    }
   ],
   "source": [
    "import os.path\n",
    "\n",
    "from google.auth.transport.requests import Request\n",
    "from google.oauth2.credentials import Credentials\n",
    "from google_auth_oauthlib.flow import InstalledAppFlow\n",
    "from googleapiclient.discovery import build\n",
    "from googleapiclient.errors import HttpError\n",
    "\n",
    "# If modifying these scopes, delete the file token.json.\n",
    "SCOPES = [\"https://www.googleapis.com/auth/gmail.readonly\"]\n",
    "\n",
    "\n",
    "def main():\n",
    "  \"\"\"Shows basic usage of the Gmail API.\n",
    "  Lists the user's Gmail labels.\n",
    "  \"\"\"\n",
    "  creds = None\n",
    "  # The file token.json stores the user's access and refresh tokens, and is\n",
    "  # created automatically when the authorization flow completes for the first\n",
    "  # time.\n",
    "  if os.path.exists(\"../secrets/token.json\"):\n",
    "    creds = Credentials.from_authorized_user_file(\"../secrets/token.json\", SCOPES)\n",
    "  # If there are no (valid) credentials available, let the user log in.\n",
    "  if not creds or not creds.valid:\n",
    "    if creds and creds.expired and creds.refresh_token:\n",
    "      creds.refresh(Request())\n",
    "    else:\n",
    "      flow = InstalledAppFlow.from_client_secrets_file(\n",
    "          \"../secrets/credentials.json\", SCOPES\n",
    "      )\n",
    "      creds = flow.run_local_server(port=0)\n",
    "    # Save the credentials for the next run\n",
    "    with open(\"../secrets/token.json\", \"w\") as token:\n",
    "      token.write(creds.to_json())\n",
    "\n",
    "  try:\n",
    "    # Call the Gmail API\n",
    "    service = build(\"gmail\", \"v1\", credentials=creds)\n",
    "    results = service.users().labels().list(userId=\"me\").execute()\n",
    "    labels = results.get(\"labels\", [])\n",
    "\n",
    "    if not labels:\n",
    "      print(\"No labels found.\")\n",
    "      return\n",
    "    print(\"Labels:\")\n",
    "    for label in labels:\n",
    "      print(label[\"name\"])\n",
    "\n",
    "  except HttpError as error:\n",
    "    # TODO(developer) - Handle errors from gmail API.\n",
    "    print(f\"An error occurred: {error}\")\n",
    "\n",
    "\n",
    "if __name__ == \"__main__\":\n",
    "  main()"
   ]
  },
  {
   "cell_type": "markdown",
   "metadata": {},
   "source": [
    "---"
   ]
  },
  {
   "cell_type": "code",
   "execution_count": 18,
   "metadata": {},
   "outputs": [],
   "source": [
    "import os.path\n",
    "import base64\n",
    "import mimetypes\n",
    "from email.mime.text import MIMEText\n",
    "from email.mime.multipart import MIMEMultipart\n",
    "from email.mime.base import MIMEBase\n",
    "from email import encoders\n",
    "\n",
    "from typing import Any, List, Dict, Optional\n",
    "\n",
    "from google.auth.transport.requests import Request\n",
    "from google.oauth2.credentials import Credentials\n",
    "from google_auth_oauthlib.flow import InstalledAppFlow\n",
    "from googleapiclient.discovery import build\n",
    "from googleapiclient.errors import HttpError\n",
    "\n",
    "# Definimos los alcances necesarios para la API de Gmail\n",
    "SCOPES = ['https://mail.google.com/']\n",
    "\n",
    "class Gmail():\n",
    "    @classmethod\n",
    "    def get_credentials(cls, secrets_path: str):\n",
    "        creds = None\n",
    "        if os.path.exists(secrets_path + \"token.json\"):\n",
    "            creds = Credentials.from_authorized_user_file(secrets_path + \"token.json\", SCOPES)\n",
    "        if not creds or not creds.valid:\n",
    "            if creds and creds.expired and creds.refresh_token:\n",
    "                creds.refresh(Request())\n",
    "            else:\n",
    "                flow = InstalledAppFlow.from_client_secrets_file(\n",
    "                    secrets_path + \"credentials.json\", SCOPES\n",
    "                )\n",
    "                creds = flow.run_local_server(port=0)\n",
    "            with open(secrets_path + \"token.json\", \"w\") as token:\n",
    "                token.write(creds.to_json())\n",
    "        return creds\n",
    "\n",
    "    @classmethod\n",
    "    def get_service(cls, secrets_path: str = \"../secrets/\"):\n",
    "        creds = cls.get_credentials(secrets_path)\n",
    "        return build('gmail', 'v1', credentials=creds)\n",
    "\n",
    "    @classmethod\n",
    "    def create_message(cls, sender: str, to: str, subject: str, message_text: str) -> Dict[str, Any]:\n",
    "        message = MIMEText(message_text)\n",
    "        message['to'] = to\n",
    "        message['from'] = sender\n",
    "        message['subject'] = subject\n",
    "        raw = base64.urlsafe_b64encode(message.as_bytes()).decode()\n",
    "        return {'raw': raw}\n",
    "\n",
    "    @classmethod\n",
    "    def create_message_with_attachment(cls, sender: str, to: str, subject: str, message_text: str, file_path: str) -> Dict[str, Any]:\n",
    "        message = MIMEMultipart()\n",
    "        message['to'] = to\n",
    "        message['from'] = sender\n",
    "        message['subject'] = subject\n",
    "\n",
    "        message.attach(MIMEText(message_text))\n",
    "\n",
    "        content_type, encoding = mimetypes.guess_type(file_path)\n",
    "        if content_type is None or encoding is not None:\n",
    "            content_type = 'application/octet-stream'\n",
    "\n",
    "        main_type, sub_type = content_type.split('/', 1)\n",
    "        with open(file_path, 'rb') as f:\n",
    "            if main_type == 'text':\n",
    "                attachment = MIMEText(f.read().decode('utf-8'), _subtype=sub_type)\n",
    "            elif main_type == 'image':\n",
    "                from email.mime.image import MIMEImage\n",
    "                attachment = MIMEImage(f.read(), _subtype=sub_type)\n",
    "            elif main_type == 'audio':\n",
    "                from email.mime.audio import MIMEAudio\n",
    "                attachment = MIMEAudio(f.read(), _subtype=sub_type)\n",
    "            else:\n",
    "                attachment = MIMEBase(main_type, sub_type)\n",
    "                attachment.set_payload(f.read())\n",
    "                encoders.encode_base64(attachment)\n",
    "\n",
    "        filename = os.path.basename(file_path)\n",
    "        attachment.add_header('Content-Disposition', 'attachment', filename=filename)\n",
    "        message.attach(attachment)\n",
    "\n",
    "        raw = base64.urlsafe_b64encode(message.as_bytes()).decode()\n",
    "        return {'raw': raw}\n",
    "\n",
    "    @classmethod\n",
    "    def send_message(cls, service: Any, user_id: str, message: Dict[str, Any]) -> Dict[str, Any]:\n",
    "        try:\n",
    "            sent_message = service.users().messages().send(userId=user_id, body=message).execute()\n",
    "            return sent_message\n",
    "        except HttpError as error:\n",
    "            print(f'Ocurrió un error: {error}')\n",
    "            return None\n",
    "\n",
    "    @classmethod\n",
    "    def list_messages(cls, service: Any, user_id: str = 'me', query: str = '') -> List[Dict[str, Any]]:\n",
    "        try:\n",
    "            response = service.users().messages().list(userId=user_id, q=query).execute()\n",
    "            messages = response.get('messages', [])\n",
    "            while 'nextPageToken' in response:\n",
    "                page_token = response['nextPageToken']\n",
    "                response = service.users().messages().list(userId=user_id, q=query, pageToken=page_token).execute()\n",
    "                messages.extend(response.get('messages', []))\n",
    "            return messages\n",
    "        except HttpError as error:\n",
    "            print(f'Ocurrió un error: {error}')\n",
    "            return []\n",
    "\n",
    "    @classmethod\n",
    "    def get_message(cls, service: Any, message_id: str, user_id: str = 'me') -> Dict[str, Any]:\n",
    "        try:\n",
    "            message = service.users().messages().get(userId=user_id, id=message_id, format='full').execute()\n",
    "            return message\n",
    "        except HttpError as error:\n",
    "            print(f'Ocurrió un error: {error}')\n",
    "            return None\n",
    "\n",
    "    @classmethod\n",
    "    def delete_message(cls, service: Any, message_id: str, user_id: str = 'me') -> None:\n",
    "        try:\n",
    "            service.users().messages().delete(userId=user_id, id=message_id).execute()\n",
    "        except HttpError as error:\n",
    "            print(f'Ocurrió un error: {error}')\n",
    "\n",
    "    @classmethod\n",
    "    def modify_message(cls, service: Any, message_id: str, add_labels: List[str] = [], remove_labels: List[str] = [], user_id: str = 'me') -> Dict[str, Any]:\n",
    "        try:\n",
    "            message = service.users().messages().modify(\n",
    "                userId=user_id,\n",
    "                id=message_id,\n",
    "                body={'addLabelIds': add_labels, 'removeLabelIds': remove_labels}\n",
    "            ).execute()\n",
    "            return message\n",
    "        except HttpError as error:\n",
    "            print(f'Ocurrió un error: {error}')\n",
    "            return None\n",
    "\n",
    "    @classmethod\n",
    "    def create_draft(cls, service: Any, user_id: str, message_body: Dict[str, Any]) -> Dict[str, Any]:\n",
    "        try:\n",
    "            draft = service.users().drafts().create(userId=user_id, body={'message': message_body}).execute()\n",
    "            return draft\n",
    "        except HttpError as error:\n",
    "            print(f'Ocurrió un error: {error}')\n",
    "            return None\n",
    "\n",
    "    @classmethod\n",
    "    def send_draft(cls, service: Any, user_id: str, draft_id: str) -> Dict[str, Any]:\n",
    "        try:\n",
    "            sent_message = service.users().drafts().send(userId=user_id, body={'id': draft_id}).execute()\n",
    "            return sent_message\n",
    "        except HttpError as error:\n",
    "            print(f'Ocurrió un error: {error}')\n",
    "            return None\n",
    "\n",
    "    @classmethod\n",
    "    def list_labels(cls, service: Any, user_id: str = 'me') -> List[Dict[str, Any]]:\n",
    "        try:\n",
    "            response = service.users().labels().list(userId=user_id).execute()\n",
    "            labels = response.get('labels', [])\n",
    "            return labels\n",
    "        except HttpError as error:\n",
    "            print(f'Ocurrió un error: {error}')\n",
    "            return []\n",
    "\n",
    "    @classmethod\n",
    "    def get_profile(cls, service: Any, user_id: str = 'me') -> Dict[str, Any]:\n",
    "        try:\n",
    "            profile = service.users().getProfile(userId=user_id).execute()\n",
    "            return profile\n",
    "        except HttpError as error:\n",
    "            print(f'Ocurrió un error: {error}')\n",
    "            return None"
   ]
  },
  {
   "cell_type": "code",
   "execution_count": 22,
   "metadata": {},
   "outputs": [
    {
     "name": "stdout",
     "output_type": "stream",
     "text": [
      "Please visit this URL to authorize this application: https://accounts.google.com/o/oauth2/auth?response_type=code&client_id=69722697557-n13nrkrq7t630sthrt70fucdcmn19hsl.apps.googleusercontent.com&redirect_uri=http%3A%2F%2Flocalhost%3A61424%2F&scope=https%3A%2F%2Fmail.google.com%2F&state=sF5OBfwQDafLwqxYHzctVKg6TaD1Ue&access_type=offline\n"
     ]
    }
   ],
   "source": [
    "# Obtener el servicio de Gmail\n",
    "service = Gmail.get_service(secrets_path='../secrets/')"
   ]
  },
  {
   "cell_type": "code",
   "execution_count": null,
   "metadata": {},
   "outputs": [],
   "source": [
    "# Crear el mensaje\n",
    "message = Gmail.create_message(\n",
    "    sender='tu_email@gmail.com',\n",
    "    to='destinatario@example.com',\n",
    "    subject='Asunto del correo',\n",
    "    message_text='Este es el contenido del correo.'\n",
    ")\n",
    "\n",
    "# Enviar el mensaje\n",
    "sent_message = Gmail.send_message(service, user_id='me', message=message)\n",
    "print(f\"Mensaje enviado. ID: {sent_message['id']}\")"
   ]
  },
  {
   "cell_type": "code",
   "execution_count": 9,
   "metadata": {},
   "outputs": [
    {
     "name": "stdout",
     "output_type": "stream",
     "text": [
      "Mensaje enviado. ID: 192d4f0a2c51f697\n"
     ]
    }
   ],
   "source": [
    "message_attended = Gmail.create_message_with_attachment(\n",
    "    sender='tu_email@gmail.com',\n",
    "    to='destinatario@example.com',\n",
    "    subject='Asunto del correo',\n",
    "    message_text='Este es el contenido del correo con un archivo.', \n",
    "    file_path='../main.py'\n",
    ")\n",
    "\n",
    "sent_message = Gmail.send_message(service, user_id='me', message=message_attended)\n",
    "print(f\"Mensaje enviado. ID: {sent_message['id']}\")"
   ]
  },
  {
   "cell_type": "code",
   "execution_count": 28,
   "metadata": {},
   "outputs": [
    {
     "data": {
      "text/plain": [
       "[{'id': '192b5091b9671c3f', 'threadId': '192b5091b9671c3f'},\n",
       " {'id': '18f2d783e2039482', 'threadId': '18f2d68e8657b295'},\n",
       " {'id': '18f2d741d8ff9729', 'threadId': '18f2d68e8657b295'},\n",
       " {'id': '18f2d73f1b12beec', 'threadId': '18f2d68e8657b295'},\n",
       " {'id': '18f2d6b4241f8d71', 'threadId': '18f2d68e8657b295'},\n",
       " {'id': '18f2d68e8657b295', 'threadId': '18f2d68e8657b295'},\n",
       " {'id': '18bb73bcff9061b6', 'threadId': '18bb73bcff9061b6'},\n",
       " {'id': '18bb029a96d1a418', 'threadId': '18bb01d4114ee948'},\n",
       " {'id': '18bb01d4114ee948', 'threadId': '18bb01d4114ee948'}]"
      ]
     },
     "execution_count": 28,
     "metadata": {},
     "output_type": "execute_result"
    }
   ],
   "source": [
    "Gmail.list_messages(service, query='from:jorge.juarez@cua.uam.mx')"
   ]
  },
  {
   "cell_type": "code",
   "execution_count": 29,
   "metadata": {},
   "outputs": [
    {
     "data": {
      "text/plain": [
       "{'id': '18f2d783e2039482',\n",
       " 'threadId': '18f2d68e8657b295',\n",
       " 'labelIds': ['IMPORTANT', 'CATEGORY_PERSONAL', 'INBOX'],\n",
       " 'snippet': 'Hola Mundo! Cnachito feliz Esto es una prueba de template',\n",
       " 'payload': {'partId': '',\n",
       "  'mimeType': 'multipart/mixed',\n",
       "  'filename': '',\n",
       "  'headers': [{'name': 'Delivered-To', 'value': 'jorgeang33@gmail.com'},\n",
       "   {'name': 'Received',\n",
       "    'value': 'by 2002:ab2:4983:0:b0:1f7:43c8:2ab6 with SMTP id h3csp2257791lqk;        Mon, 29 Apr 2024 22:26:46 -0700 (PDT)'},\n",
       "   {'name': 'X-Received',\n",
       "    'value': 'by 2002:a05:6808:4297:b0:3c8:2b1f:5270 with SMTP id dq23-20020a056808429700b003c82b1f5270mr12148981oib.20.1714454806425;        Mon, 29 Apr 2024 22:26:46 -0700 (PDT)'},\n",
       "   {'name': 'ARC-Seal',\n",
       "    'value': 'i=1; a=rsa-sha256; t=1714454806; cv=none;        d=google.com; s=arc-20160816;        b=mAZSFeCg10f2o6ChuZBaUt1VJXtcdIhlEoRjSAJcr6CAMr+/aQzv6FDTigzLaGRe3T         Ev8h7RJC0De7lO7cPGWSUK4VwHgaZwRqrasvKqas8/30M4L1K1JLBhhzJmu1xJwi5rw7         zeY58WsRCoNUzFkyYDK87/fvZtvpdLcs1QwlfwyyekWs37dy/N1AdF1ULtDvwwQ7V7BH         v0uzteW/87SjsnjNJ/ZpV46Uforgais/Hu3iA5DrZ18o/ZFqkldgenAWzfdyURitzTW9         k4F28O6RhT3sv6b1z6qQU05575EnPyC7Zr4cILk8KX0MQVRdVV+VszdOyXCKivhX6SXR         Oghg=='},\n",
       "   {'name': 'ARC-Message-Signature',\n",
       "    'value': 'i=1; a=rsa-sha256; c=relaxed/relaxed; d=google.com; s=arc-20160816;        h=subject:to:mime-version:from:date:message-id:dkim-signature;        bh=5K5ZebLDtjTgVYNx2CY/CC0G/W1vFV5/0cgzb2EItu4=;        fh=sGnGlYKnZQfHJeWmTLHTJHkFf64VPqt93Vg8d1C2YQc=;        b=a6suuhcw0w1RaxeffOiItbk04PGDgKxjNy5nPHUfEWiTwGIjAAtXDDrb1Az/l4hQd/         864RDwa1QjRoPCSNE3l0ZF8AlWU+lfpaDdH+3hAVJQuAtYyNK6ZQo9e+KBtumCl+iJeM         dYX+aMMVx6qsIdF0qaNt5/r8e2fTv5gA+cTrr/QUNk+sBJiHPJ57Bt1MPuY5pboI8HPU         V4UBDHy1+Lyxb45xVMoFupc1QvQbvUBvhJ8++TrPC/JPhouo+wtCTrDF3Qb2Mlpb23Ho         JWOKBu5BYrsej1i14a5LOdqdFSJHMJogioJLuuSwqHZo2U9ExLMagb9/1KOXi3itBW5Y         NEfQ==;        dara=google.com'},\n",
       "   {'name': 'ARC-Authentication-Results',\n",
       "    'value': 'i=1; mx.google.com;       dkim=pass header.i=@cua-uam-mx.20230601.gappssmtp.com header.s=20230601 header.b=QbxOMup+;       spf=pass (google.com: domain of jorge.juarez@cua.uam.mx designates 209.85.220.41 as permitted sender) smtp.mailfrom=jorge.juarez@cua.uam.mx'},\n",
       "   {'name': 'Return-Path', 'value': '<jorge.juarez@cua.uam.mx>'},\n",
       "   {'name': 'Received',\n",
       "    'value': 'from mail-sor-f41.google.com (mail-sor-f41.google.com. [209.85.220.41])        by mx.google.com with SMTPS id a10-20020a05680804ca00b003c5fce279easor11472092oie.2.2024.04.29.22.26.46        for <jorgeang33@gmail.com>        (Google Transport Security);        Mon, 29 Apr 2024 22:26:46 -0700 (PDT)'},\n",
       "   {'name': 'Received-SPF',\n",
       "    'value': 'pass (google.com: domain of jorge.juarez@cua.uam.mx designates 209.85.220.41 as permitted sender) client-ip=209.85.220.41;'},\n",
       "   {'name': 'Authentication-Results',\n",
       "    'value': 'mx.google.com;       dkim=pass header.i=@cua-uam-mx.20230601.gappssmtp.com header.s=20230601 header.b=QbxOMup+;       spf=pass (google.com: domain of jorge.juarez@cua.uam.mx designates 209.85.220.41 as permitted sender) smtp.mailfrom=jorge.juarez@cua.uam.mx'},\n",
       "   {'name': 'DKIM-Signature',\n",
       "    'value': 'v=1; a=rsa-sha256; c=relaxed/relaxed;        d=cua-uam-mx.20230601.gappssmtp.com; s=20230601; t=1714454805; x=1715059605; dara=google.com;        h=subject:to:mime-version:from:date:message-id:from:to:cc:subject         :date:message-id:reply-to;        bh=5K5ZebLDtjTgVYNx2CY/CC0G/W1vFV5/0cgzb2EItu4=;        b=QbxOMup+RfVB51+m5Q//mFp0XQphhwTFVT0DTd3jsCtVVm4TofPi7Cl09GrTzwEL0f         iRLkne2qUlf219gMBkRiSMpETwKJA2JTqxkj+BpneB9tvF3F054eu8D5vcIge5R6qNal         DqeMoUv945lfvGwflhvOXYRNj1DtMVdodUYPcBxaRXW4q8uOcGOknOx+f7ht0MNSnjt5         JW4T/4wxuO/Zdv4yCUa6tkc+vy2ltVeOJsi/jkVxw7zaLQ6mYRo0pcKN5dgNrNNNW9hu         L7gthR0Gj4zqUvlmq1BQsDFyIuDx3m4oRoPhD+SepgY+ZrL1yvMLWmM6Grtx9afPIW/r         Or3Q=='},\n",
       "   {'name': 'X-Google-DKIM-Signature',\n",
       "    'value': 'v=1; a=rsa-sha256; c=relaxed/relaxed;        d=1e100.net; s=20230601; t=1714454805; x=1715059605;        h=subject:to:mime-version:from:date:message-id:x-gm-message-state         :from:to:cc:subject:date:message-id:reply-to;        bh=5K5ZebLDtjTgVYNx2CY/CC0G/W1vFV5/0cgzb2EItu4=;        b=wpeCjCIH48v2q0gMWB80ixe6vFDZHCSBBsbyHZT3oatYGNphVM2X2971toas02dU/M         9ymux5a0RYo49stfN+8mWLnD3QYs3FNzDM0S/c5TeXesJLyC1B55LqLjHW9CZ4mHwvYr         yfn1L+YHK4dg5FGKrKIXmHzadJRmQqp+WIaJkcHcKNb8wk+bpcxSbkf+FryJIpU9RIyO         YToagkW+7EwqQYKvBF8a5UI3rxO0v8JZECkWboest2ALOct3y1S7afLc/bmiboQOwwCJ         rqBWslQZ+L0U4mEzFHDf8zdtuAJ0U1G/8To13OzVLEsGpihhsqO+FOVyTv1QZ5ml9Hlf         /FjA=='},\n",
       "   {'name': 'X-Gm-Message-State',\n",
       "    'value': 'AOJu0Yxo0Tx8m6YOUhxjyRlnPXJj2C+53ri1jbw7ab2APhruLs7hJtTd pE0YIdaVB2LBFTIEgGlBhJUeqiSkDs95hVSSrM46sMk0aEalDBr6Bhgm/65zDZaI6m0ublc6Xdf Z'},\n",
       "   {'name': 'X-Google-Smtp-Source',\n",
       "    'value': 'AGHT+IG3H7QDb2tn+SPd7X4yoqQTVB5rXkgzGWjJNwBFwFJD2g+nzkboxnQLlQoT6I69ts6LkM0bDA=='},\n",
       "   {'name': 'X-Received',\n",
       "    'value': 'by 2002:a05:6808:10cb:b0:3c8:64c2:73fa with SMTP id s11-20020a05680810cb00b003c864c273famr7486885ois.0.1714454804896;        Mon, 29 Apr 2024 22:26:44 -0700 (PDT)'},\n",
       "   {'name': 'Return-Path', 'value': '<jorge.juarez@cua.uam.mx>'},\n",
       "   {'name': 'Received',\n",
       "    'value': 'from 1.0.0.0.0.0.0.0.0.0.0.0.0.0.0.0.0.0.0.0.0.0.0.0.0.0.0.0.0.0.0.0.ip6.arpa ([189.217.9.187])        by smtp.gmail.com with ESMTPSA id l1-20020a056808020100b003c5ed0d7d24sm3539592oie.18.2024.04.29.22.26.43        for <jorgeang33@gmail.com>        (version=TLS1_3 cipher=TLS_AES_256_GCM_SHA384 bits=256/256);        Mon, 29 Apr 2024 22:26:44 -0700 (PDT)'},\n",
       "   {'name': 'Message-ID',\n",
       "    'value': '<66308114.050a0220.786af.c99e@mx.google.com>'},\n",
       "   {'name': 'Date', 'value': 'Mon, 29 Apr 2024 22:26:44 -0700 (PDT)'},\n",
       "   {'name': 'From', 'value': 'Hola mundo <jorge.juarez@cua.uam.mx>'},\n",
       "   {'name': 'X-Google-Original-From', 'value': 'Hola mundo'},\n",
       "   {'name': 'Content-Type',\n",
       "    'value': 'multipart/mixed; boundary=\"===============3850513222007859373==\"'},\n",
       "   {'name': 'MIME-Version', 'value': '1.0'},\n",
       "   {'name': 'to', 'value': 'jorgeang33@gmail.com'},\n",
       "   {'name': 'subject', 'value': 'Esto es una prueba'}],\n",
       "  'body': {'size': 0},\n",
       "  'parts': [{'partId': '0',\n",
       "    'mimeType': 'text/html',\n",
       "    'filename': '',\n",
       "    'headers': [{'name': 'Content-Type',\n",
       "      'value': 'text/html; charset=\"us-ascii\"'},\n",
       "     {'name': 'MIME-Version', 'value': '1.0'},\n",
       "     {'name': 'Content-Transfer-Encoding', 'value': '7bit'}],\n",
       "    'body': {'size': 153,\n",
       "     'data': 'PCFET0NUWVBFIGh0bWw-DQo8aHRtbCBsYW5nPSJlbiI-DQogIDxoZWFkPiA8L2hlYWQ-DQogIDxib2R5Pg0KICAgIDxiPkhvbGEgTXVuZG8hIENuYWNoaXRvIGZlbGl6IEVzdG8gZXMgdW5hIHBydWViYSBkZSB0ZW1wbGF0ZTwvYj4NCiAgPC9ib2R5Pg0KPC9odG1sPg0K'}},\n",
       "   {'partId': '1',\n",
       "    'mimeType': 'image/jpeg',\n",
       "    'filename': '',\n",
       "    'headers': [{'name': 'Content-Type', 'value': 'image/jpeg'},\n",
       "     {'name': 'MIME-Version', 'value': '1.0'},\n",
       "     {'name': 'Content-Transfer-Encoding', 'value': 'base64'}],\n",
       "    'body': {'attachmentId': 'ANGjdJ9cPrd_gVlL2DDozWkPhGPCKx7IRylYIm7Jq2QYE4m5LvJz_2D6cSoGnVEb9fvAvxXQTnYnKnHyB6mY0mlWNWTGix-cyrdT_1Fk9liBrWGudvMhNPWEJlJ2sm1uzNL4m2-xoSiI7qQczDdjc8Ye0CTXV8sMMSWewo_Q2gsj1bE0h705Sk6xL5ylcivrPOi5ngI_lirizU_q7HoAlAnCB1vmaivfWkW2_GD_WnxWxCAJVG0crwvQ1Ho5JiOwjWaSBsrhWYHWtD81zdwaxNIkQJvWxhC1Bi5Hab_6Xbj_L1BsOzoedvGeym6ikIFQovfWHjl7ixv7du09eg5YCCKl_vIQri3EvaX8dGDw6OR9pJkeSyxSqMOFRYPl8qzd9beNSlfoFuuZVr1CXnhI',\n",
       "     'size': 33643}}]},\n",
       " 'sizeEstimate': 51801,\n",
       " 'historyId': '1661209',\n",
       " 'internalDate': '1714454804000'}"
      ]
     },
     "execution_count": 29,
     "metadata": {},
     "output_type": "execute_result"
    }
   ],
   "source": [
    "Gmail.get_message(service, message_id='18f2d783e2039482')"
   ]
  },
  {
   "cell_type": "code",
   "execution_count": 30,
   "metadata": {},
   "outputs": [
    {
     "data": {
      "text/plain": [
       "{'id': '18f2d783e2039482',\n",
       " 'threadId': '18f2d68e8657b295',\n",
       " 'labelIds': ['UNREAD', 'IMPORTANT', 'CATEGORY_PERSONAL', 'INBOX']}"
      ]
     },
     "execution_count": 30,
     "metadata": {},
     "output_type": "execute_result"
    }
   ],
   "source": [
    "Gmail.modify_message(service, message_id='18f2d783e2039482', add_labels=['UNREAD'])"
   ]
  },
  {
   "cell_type": "code",
   "execution_count": 21,
   "metadata": {},
   "outputs": [],
   "source": [
    "Gmail.delete_message(service, message_id='192d4f2c07c22588', user_id='me')"
   ]
  },
  {
   "cell_type": "code",
   "execution_count": 23,
   "metadata": {},
   "outputs": [
    {
     "data": {
      "text/plain": [
       "{'id': 'r-91776431384130372',\n",
       " 'message': {'id': '192d6ce990150bea',\n",
       "  'threadId': '192d6ce990150bea',\n",
       "  'labelIds': ['DRAFT']}}"
      ]
     },
     "execution_count": 23,
     "metadata": {},
     "output_type": "execute_result"
    }
   ],
   "source": [
    "# Crear el mensaje\n",
    "draft_message = Gmail.create_message(\n",
    "    sender='jorgeang33@@gmail.com',\n",
    "    to='destinatario@example.com',\n",
    "    subject='Asunto del correo',\n",
    "    message_text='Este es el contenido del correo que primero fue un borrador.'\n",
    ")\n",
    "\n",
    "Gmail.create_draft(service, user_id='me', message_body=draft_message)"
   ]
  },
  {
   "cell_type": "code",
   "execution_count": 24,
   "metadata": {},
   "outputs": [
    {
     "data": {
      "text/plain": [
       "{'id': '192d6cece6912c70',\n",
       " 'threadId': '192d6ce990150bea',\n",
       " 'labelIds': ['SENT']}"
      ]
     },
     "execution_count": 24,
     "metadata": {},
     "output_type": "execute_result"
    }
   ],
   "source": [
    "Gmail.send_draft(service, user_id='me', draft_id='r-91776431384130372')"
   ]
  },
  {
   "cell_type": "code",
   "execution_count": 25,
   "metadata": {},
   "outputs": [
    {
     "data": {
      "text/plain": [
       "[{'id': 'CHAT',\n",
       "  'name': 'CHAT',\n",
       "  'messageListVisibility': 'hide',\n",
       "  'labelListVisibility': 'labelHide',\n",
       "  'type': 'system'},\n",
       " {'id': 'SENT', 'name': 'SENT', 'type': 'system'},\n",
       " {'id': 'INBOX', 'name': 'INBOX', 'type': 'system'},\n",
       " {'id': 'IMPORTANT',\n",
       "  'name': 'IMPORTANT',\n",
       "  'messageListVisibility': 'hide',\n",
       "  'labelListVisibility': 'labelHide',\n",
       "  'type': 'system'},\n",
       " {'id': 'TRASH',\n",
       "  'name': 'TRASH',\n",
       "  'messageListVisibility': 'hide',\n",
       "  'labelListVisibility': 'labelHide',\n",
       "  'type': 'system'},\n",
       " {'id': 'DRAFT', 'name': 'DRAFT', 'type': 'system'},\n",
       " {'id': 'SPAM',\n",
       "  'name': 'SPAM',\n",
       "  'messageListVisibility': 'hide',\n",
       "  'labelListVisibility': 'labelHide',\n",
       "  'type': 'system'},\n",
       " {'id': 'CATEGORY_FORUMS',\n",
       "  'name': 'CATEGORY_FORUMS',\n",
       "  'messageListVisibility': 'hide',\n",
       "  'labelListVisibility': 'labelHide',\n",
       "  'type': 'system'},\n",
       " {'id': 'CATEGORY_UPDATES',\n",
       "  'name': 'CATEGORY_UPDATES',\n",
       "  'messageListVisibility': 'hide',\n",
       "  'labelListVisibility': 'labelHide',\n",
       "  'type': 'system'},\n",
       " {'id': 'CATEGORY_PERSONAL',\n",
       "  'name': 'CATEGORY_PERSONAL',\n",
       "  'messageListVisibility': 'hide',\n",
       "  'labelListVisibility': 'labelHide',\n",
       "  'type': 'system'},\n",
       " {'id': 'CATEGORY_PROMOTIONS',\n",
       "  'name': 'CATEGORY_PROMOTIONS',\n",
       "  'messageListVisibility': 'hide',\n",
       "  'labelListVisibility': 'labelHide',\n",
       "  'type': 'system'},\n",
       " {'id': 'CATEGORY_SOCIAL',\n",
       "  'name': 'CATEGORY_SOCIAL',\n",
       "  'messageListVisibility': 'hide',\n",
       "  'labelListVisibility': 'labelHide',\n",
       "  'type': 'system'},\n",
       " {'id': 'STARRED', 'name': 'STARRED', 'type': 'system'},\n",
       " {'id': 'UNREAD', 'name': 'UNREAD', 'type': 'system'}]"
      ]
     },
     "execution_count": 25,
     "metadata": {},
     "output_type": "execute_result"
    }
   ],
   "source": [
    "Gmail.list_labels(service)"
   ]
  },
  {
   "cell_type": "code",
   "execution_count": 26,
   "metadata": {},
   "outputs": [
    {
     "data": {
      "text/plain": [
       "{'emailAddress': 'jorgeang33@gmail.com',\n",
       " 'messagesTotal': 9336,\n",
       " 'threadsTotal': 8850,\n",
       " 'historyId': '1816849'}"
      ]
     },
     "execution_count": 26,
     "metadata": {},
     "output_type": "execute_result"
    }
   ],
   "source": [
    "Gmail.get_profile(service)"
   ]
  }
 ],
 "metadata": {
  "kernelspec": {
   "display_name": "zolkin-backend-dA_7IZFM",
   "language": "python",
   "name": "python3"
  },
  "language_info": {
   "codemirror_mode": {
    "name": "ipython",
    "version": 3
   },
   "file_extension": ".py",
   "mimetype": "text/x-python",
   "name": "python",
   "nbconvert_exporter": "python",
   "pygments_lexer": "ipython3",
   "version": "3.12.7"
  }
 },
 "nbformat": 4,
 "nbformat_minor": 2
}
