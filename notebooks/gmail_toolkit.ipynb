{
 "cells": [
  {
   "cell_type": "markdown",
   "metadata": {},
   "source": [
    "# Gmail Toolkit in LangChain \n",
    "\n",
    "Mas informacion sobre el uso de la API de Gmail en [Guía de inicio rápido de Python | Gmail | Google for Developers](https://developers.google.com/gmail/api/quickstart/python?hl=es_419)\n",
    "\n",
    "## Quickstart de la API:"
   ]
  },
  {
   "cell_type": "code",
   "execution_count": null,
   "metadata": {},
   "outputs": [],
   "source": [
    "# Dependencies\n",
    "%pip install --upgrade google-api-python-client google-auth-httplib2 google-auth-oauthlib"
   ]
  },
  {
   "cell_type": "code",
   "execution_count": null,
   "metadata": {},
   "outputs": [],
   "source": [
    "import os.path\n",
    "\n",
    "from google.auth.transport.requests import Request\n",
    "from google.oauth2.credentials import Credentials\n",
    "from google_auth_oauthlib.flow import InstalledAppFlow\n",
    "from googleapiclient.discovery import build\n",
    "from googleapiclient.errors import HttpError\n",
    "\n",
    "# If modifying these scopes, delete the file token.json.\n",
    "SCOPES = [\"https://www.googleapis.com/auth/gmail.readonly\"]\n",
    "\n",
    "\n",
    "def main():\n",
    "  \"\"\"Shows basic usage of the Gmail API.\n",
    "  Lists the user's Gmail labels.\n",
    "  \"\"\"\n",
    "  creds = None\n",
    "  # The file token.json stores the user's access and refresh tokens, and is\n",
    "  # created automatically when the authorization flow completes for the first\n",
    "  # time.\n",
    "  if os.path.exists(\"token.json\"):\n",
    "    creds = Credentials.from_authorized_user_file(\"token.json\", SCOPES)\n",
    "  # If there are no (valid) credentials available, let the user log in.\n",
    "  if not creds or not creds.valid:\n",
    "    if creds and creds.expired and creds.refresh_token:\n",
    "      creds.refresh(Request())\n",
    "    else:\n",
    "      flow = InstalledAppFlow.from_client_secrets_file(\n",
    "          \"credentials.json\", SCOPES\n",
    "      )\n",
    "      creds = flow.run_local_server(port=0)\n",
    "    # Save the credentials for the next run\n",
    "    with open(\"token.json\", \"w\") as token:\n",
    "      token.write(creds.to_json())\n",
    "\n",
    "  try:\n",
    "    # Call the Gmail API\n",
    "    service = build(\"gmail\", \"v1\", credentials=creds)\n",
    "    results = service.users().labels().list(userId=\"me\").execute()\n",
    "    labels = results.get(\"labels\", [])\n",
    "\n",
    "    if not labels:\n",
    "      print(\"No labels found.\")\n",
    "      return\n",
    "    print(\"Labels:\")\n",
    "    for label in labels:\n",
    "      print(label[\"name\"])\n",
    "\n",
    "  except HttpError as error:\n",
    "    # TODO(developer) - Handle errors from gmail API.\n",
    "    print(f\"An error occurred: {error}\")\n",
    "\n",
    "\n",
    "if __name__ == \"__main__\":\n",
    "  main()"
   ]
  },
  {
   "cell_type": "markdown",
   "metadata": {},
   "source": [
    "## Interaccion de la API con LangChain\n",
    "\n",
    "Más informacion sobre este toolkit en: [Gmail Toolkit | 🦜️🔗 LangChain](https://python.langchain.com/docs/integrations/tools/gmail/)\n",
    "\n",
    "**Pruebas con las herramientas (sin agente)**"
   ]
  },
  {
   "cell_type": "code",
   "execution_count": null,
   "metadata": {},
   "outputs": [],
   "source": [
    "# Dependencies\n",
    "%pip install langchain\n",
    "%pip install -qU langchain-openai\n",
    "%pip install -qU langchain-google-community[gmail]"
   ]
  },
  {
   "cell_type": "code",
   "execution_count": 2,
   "metadata": {},
   "outputs": [
    {
     "name": "stdout",
     "output_type": "stream",
     "text": [
      "Please visit this URL to authorize this application: https://accounts.google.com/o/oauth2/auth?response_type=code&client_id=69722697557-n13nrkrq7t630sthrt70fucdcmn19hsl.apps.googleusercontent.com&redirect_uri=http%3A%2F%2Flocalhost%3A49804%2F&scope=https%3A%2F%2Fmail.google.com%2F&state=oqnuLKMd7TF2O1jXNwL1XV1hu0GWCq&access_type=offline\n"
     ]
    }
   ],
   "source": [
    "from langchain_google_community.gmail.utils import (\n",
    "    build_resource_service,\n",
    "    get_gmail_credentials,\n",
    ")\n",
    "from langchain_google_community import GmailToolkit\n",
    "\n",
    "# Can review scopes here https://developers.google.com/gmail/api/auth/scopes\n",
    "# For instance, readonly scope is 'https://www.googleapis.com/auth/gmail.readonly'\n",
    "credentials = get_gmail_credentials(\n",
    "    token_file=\"../secrets/token.json\",\n",
    "    scopes=[\"https://mail.google.com/\"],\n",
    "    client_secrets_file=\"../secrets/credentials.json\",\n",
    ")\n",
    "api_resource = build_resource_service(credentials=credentials)\n",
    "toolkit = GmailToolkit(api_resource=api_resource)"
   ]
  },
  {
   "cell_type": "code",
   "execution_count": 3,
   "metadata": {},
   "outputs": [
    {
     "data": {
      "text/plain": [
       "[GmailCreateDraft(api_resource=<googleapiclient.discovery.Resource object at 0x10d16cfe0>),\n",
       " GmailSendMessage(api_resource=<googleapiclient.discovery.Resource object at 0x10d16cfe0>),\n",
       " GmailSearch(api_resource=<googleapiclient.discovery.Resource object at 0x10d16cfe0>),\n",
       " GmailGetMessage(api_resource=<googleapiclient.discovery.Resource object at 0x10d16cfe0>),\n",
       " GmailGetThread(api_resource=<googleapiclient.discovery.Resource object at 0x10d16cfe0>)]"
      ]
     },
     "execution_count": 3,
     "metadata": {},
     "output_type": "execute_result"
    }
   ],
   "source": [
    "tools = toolkit.get_tools()\n",
    "tools"
   ]
  },
  {
   "cell_type": "code",
   "execution_count": 4,
   "metadata": {},
   "outputs": [],
   "source": [
    "import os\n",
    "from langchain_openai import ChatOpenAI\n",
    "\n",
    "model = ChatOpenAI(model=os.getenv('OPENAI_MODEL'), api_key=os.getenv('OPENAI_API_KEY'))"
   ]
  },
  {
   "cell_type": "code",
   "execution_count": 5,
   "metadata": {},
   "outputs": [],
   "source": [
    "model_with_tools = model.bind_tools(tools)"
   ]
  },
  {
   "cell_type": "code",
   "execution_count": 7,
   "metadata": {},
   "outputs": [
    {
     "name": "stdout",
     "output_type": "stream",
     "text": [
      "ContentString: \n",
      "ToolCalls: [{'name': 'search_gmail', 'args': {'query': 'from:tu_jefe@example.com', 'resource': 'messages', 'max_results': 1}, 'id': 'call_DwJOWOOAwZf66S0OI4SsaEb8', 'type': 'tool_call'}]\n"
     ]
    }
   ],
   "source": [
    "from langchain_core.messages import HumanMessage\n",
    "\n",
    "response = model_with_tools.invoke([HumanMessage(content=\"Busca en mi correo el último mensaje de mi jefe, y respondele que lo he recibido.\")])\n",
    "\n",
    "print(f\"ContentString: {response.content}\")\n",
    "print(f\"ToolCalls: {response.tool_calls}\")"
   ]
  },
  {
   "cell_type": "markdown",
   "metadata": {},
   "source": [
    "### Integracion de las herramientas con un Agente con LangGraph\n",
    "\n",
    "Más información sobre construir un agente con LangGraph en: [Build an Agent | 🦜️🔗 LangChain](https://python.langchain.com/docs/tutorials/agents/#create-the-agent)"
   ]
  },
  {
   "cell_type": "code",
   "execution_count": null,
   "metadata": {},
   "outputs": [],
   "source": [
    "# Dependencies\n",
    "%pip install -qU langgraph"
   ]
  },
  {
   "cell_type": "code",
   "execution_count": 8,
   "metadata": {},
   "outputs": [],
   "source": [
    "from langgraph.prebuilt import create_react_agent\n",
    "\n",
    "agent_executor = create_react_agent(model, tools)"
   ]
  },
  {
   "cell_type": "code",
   "execution_count": 10,
   "metadata": {},
   "outputs": [
    {
     "name": "stdout",
     "output_type": "stream",
     "text": [
      "================================\u001b[1m Human Message \u001b[0m=================================\n",
      "\n",
      "Busca en mi correo el último mensaje de Amazon, y respondele que lo he recibido.\n",
      "==================================\u001b[1m Ai Message \u001b[0m==================================\n",
      "Tool Calls:\n",
      "  search_gmail (call_OYpwabnl2E3RsRyLVbM1HiyS)\n",
      " Call ID: call_OYpwabnl2E3RsRyLVbM1HiyS\n",
      "  Args:\n",
      "    query: from:amazon\n",
      "    resource: messages\n",
      "    max_results: 1\n",
      "=================================\u001b[1m Tool Message \u001b[0m=================================\n",
      "Name: search_gmail\n",
      "\n",
      "[{\"id\": \"192a102712a3bc8c\", \"threadId\": \"192a102712a3bc8c\", \"snippet\": \"Hola Jorge, ¡Tu paquete ya se entregó! Rastrea tu paquete Devuelve o reemplaza los artículos en Mis Pedidos. Pedido # 702-2226614-5973852. Este correo electrónico se envió desde una dirección que no\", \"body\": \"www.amazon.com.mx\\r\\n--------------------------------------------------------------------------------------------------------------------------------------------\\r\\n\\r\\nHola Jorge,\\r\\n\\r\\n\\r\\n¡Tu paquete ya se entregó!\\r\\n\\r\\n\\r\\nRastrea tu paquete:\\r\\nhttps://www.amazon.com.mx/gp/css/shiptrack/view.html?ie=UTF8&orderID=702-2226614-5973852&orderingShipmentId=829077629640000&packageId=1&ref_=E_301\\r\\n\\r\\n\\r\\nDevolver o reemplazar artículos en Tus Pedidos: \\r\\nhttps://www.amazon.com.mx/gp/css/order-history?ie=UTF8&ref_=E_301\\r\\n\\r\\n--------------------------------------------------------------------------------------------------------------------------------------------\\r\\nOrden N.º702-2226614-5973852\\r\\nhttps://www.amazon.com.mx/gp/css/summary/edit.html?ie=UTF8&orderID=702-2226614-5973852&ref_=E_301\\r\\nEste correo electrónico se envió desde una dirección que no puede recibir correos electrónicos. Por favor,no respondas este correo electrónico.\", \"subject\": \"=?UTF-8?B?RW50cmVnYWRvOiBUdSBwYXF1ZXRlIA==?=\\r\\n =?UTF-8?B?ZGUgQW1hem9uIHlhIHNlIGVudHJlZ8Oz?=\", \"sender\": \"\\\"Amazon.com.mx\\\" <order-update@amazon.com.mx>\"}]\n",
      "==================================\u001b[1m Ai Message \u001b[0m==================================\n",
      "Tool Calls:\n",
      "  send_gmail_message (call_t6fMsjbGl7UL1Uudpi5RkcIP)\n",
      " Call ID: call_t6fMsjbGl7UL1Uudpi5RkcIP\n",
      "  Args:\n",
      "    message: He recibido tu mensaje y confirmo que mi paquete ya ha sido entregado.\n",
      "    to: ['order-update@amazon.com.mx']\n",
      "    subject: Confirmación de entrega\n",
      "=================================\u001b[1m Tool Message \u001b[0m=================================\n",
      "Name: send_gmail_message\n",
      "\n",
      "Message sent. Message Id: 192c4977831913f8\n",
      "==================================\u001b[1m Ai Message \u001b[0m==================================\n",
      "\n",
      "He encontrado el último mensaje de Amazon y he respondido confirmando que he recibido la notificación de entrega.\n"
     ]
    }
   ],
   "source": [
    "# example_query = \"Draft an email to fake@fake.com thanking them for coffee.\"\n",
    "example_query = \"Busca en mi correo el último mensaje de Amazon, y respondele que lo he recibido.\"\n",
    "\n",
    "events = agent_executor.stream(\n",
    "    {\"messages\": [(\"user\", example_query)]},\n",
    "    stream_mode=\"values\",\n",
    ")\n",
    "for event in events:\n",
    "    event[\"messages\"][-1].pretty_print()"
   ]
  },
  {
   "cell_type": "code",
   "execution_count": 33,
   "metadata": {},
   "outputs": [
    {
     "data": {
      "text/plain": [
       "[HumanMessage(content='Crea un borrador para fake@fake.com sobre ir a tomar un café.', additional_kwargs={}, response_metadata={}, id='cafafb79-1339-4328-afb9-3f0513053168'),\n",
       " AIMessage(content='', additional_kwargs={'tool_calls': [{'id': 'call_9Ue8EvVfbqYKYYALFl9rAJ6v', 'function': {'arguments': '{\"message\":\"Hola, ¿te gustaría ir a tomar un café esta semana?\",\"to\":[\"fake@fake.com\"],\"subject\":\"Invitación para tomar un café\"}', 'name': 'create_gmail_draft'}, 'type': 'function'}], 'refusal': None}, response_metadata={'token_usage': {'completion_tokens': 46, 'prompt_tokens': 575, 'total_tokens': 621, 'prompt_tokens_details': {'cached_tokens': 0}, 'completion_tokens_details': {'reasoning_tokens': 0}}, 'model_name': 'gpt-3.5-turbo-0125', 'system_fingerprint': None, 'finish_reason': 'tool_calls', 'logprobs': None}, id='run-91490a0b-b098-4eaa-99e2-0bb4ec75dedd-0', tool_calls=[{'name': 'create_gmail_draft', 'args': {'message': 'Hola, ¿te gustaría ir a tomar un café esta semana?', 'to': ['fake@fake.com'], 'subject': 'Invitación para tomar un café'}, 'id': 'call_9Ue8EvVfbqYKYYALFl9rAJ6v', 'type': 'tool_call'}], usage_metadata={'input_tokens': 575, 'output_tokens': 46, 'total_tokens': 621, 'input_token_details': {'cache_read': 0}, 'output_token_details': {'reasoning': 0}}),\n",
       " ToolMessage(content='Draft created. Draft Id: r5790556476065705190', name='create_gmail_draft', id='8029146f-6b9d-4f46-b28f-ca29f940d607', tool_call_id='call_9Ue8EvVfbqYKYYALFl9rAJ6v'),\n",
       " AIMessage(content='Se ha creado un borrador de correo para enviar a fake@fake.com sobre ir a tomar un café. Puedes revisarlo en tus borradores de Gmail.', additional_kwargs={'refusal': None}, response_metadata={'token_usage': {'completion_tokens': 35, 'prompt_tokens': 645, 'total_tokens': 680, 'prompt_tokens_details': {'cached_tokens': 0}, 'completion_tokens_details': {'reasoning_tokens': 0}}, 'model_name': 'gpt-3.5-turbo-0125', 'system_fingerprint': None, 'finish_reason': 'stop', 'logprobs': None}, id='run-8a0ce903-3e3c-4f6f-933a-536b231fa3f9-0', usage_metadata={'input_tokens': 645, 'output_tokens': 35, 'total_tokens': 680, 'input_token_details': {'cache_read': 0}, 'output_token_details': {'reasoning': 0}})]"
      ]
     },
     "execution_count": 33,
     "metadata": {},
     "output_type": "execute_result"
    }
   ],
   "source": [
    "response = agent_executor.invoke(\n",
    "    {\"messages\": [\n",
    "        HumanMessage(content=\"Crea un borrador para fake@fake.com sobre ir a tomar un café.\"),\n",
    "        ]}\n",
    ")\n",
    "response[\"messages\"]"
   ]
  },
  {
   "cell_type": "markdown",
   "metadata": {},
   "source": [
    "### Con un propmt template\n",
    "\n",
    "Más información sobre los prompt templates con Agentes en: [How to migrate from legacy LangChain agents to LangGraph | 🦜️🔗 LangChain](https://python.langchain.com/docs/how_to/migrate_agent/#prompt-templates)\n",
    "\n",
    "**Para hacer uso del RAG y de la memoria, que van a ser input para el agente**"
   ]
  },
  {
   "cell_type": "code",
   "execution_count": 34,
   "metadata": {},
   "outputs": [
    {
     "name": "stdout",
     "output_type": "stream",
     "text": [
      "{'input': 'Draft an email to fake@fake.com thanking them for tea.', 'output': 'El correo ha sido redactado con el mensaje \"¡Pandamonium!\" al final. ¿Te gustaría enviarlo o hacer algún cambio?'}\n"
     ]
    }
   ],
   "source": [
    "from langgraph.prebuilt import create_react_agent\n",
    "from langgraph.prebuilt.chat_agent_executor import AgentState\n",
    "from langchain_core.prompts import ChatPromptTemplate\n",
    "\n",
    "prompt = ChatPromptTemplate.from_messages(\n",
    "    [\n",
    "        (\"system\", \"You are a helpful assistant. Respond only in Spanish.\"),\n",
    "        (\"placeholder\", \"{messages}\"),\n",
    "    ]\n",
    ")\n",
    "\n",
    "\n",
    "def _modify_state_messages(state: AgentState):\n",
    "    return prompt.invoke({\"messages\": state[\"messages\"]}).to_messages() + [\n",
    "        (\"user\", \"Also say 'Pandamonium!' after the answer.\")\n",
    "    ]\n",
    "\n",
    "\n",
    "langgraph_agent_executor = create_react_agent(\n",
    "    model, tools, state_modifier=_modify_state_messages\n",
    ")\n",
    "\n",
    "query = \"Draft an email to fake@fake.com thanking them for tea.\"\n",
    "\n",
    "messages = langgraph_agent_executor.invoke({\"messages\": [(\"human\", query)]})\n",
    "\n",
    "print(\n",
    "    {\n",
    "        \"input\": query,\n",
    "        \"output\": messages[\"messages\"][-1].content,\n",
    "    }\n",
    ")"
   ]
  },
  {
   "cell_type": "code",
   "execution_count": 11,
   "metadata": {},
   "outputs": [
    {
     "name": "stdout",
     "output_type": "stream",
     "text": [
      "{'input': 'Crea un borrador para JUAN para agradecerle por el café.\\nContext: JUAN es mi amigo de la secundaria y me invito a tomar un café en su casa, su correo es jorgeang03@outlook.com', 'output': 'Se ha creado un borrador de correo para agradecer a JUAN por el café. Puedes revisarlo en tu bandeja de borradores.'}\n"
     ]
    }
   ],
   "source": [
    "from langgraph.prebuilt import create_react_agent\n",
    "from langgraph.prebuilt.chat_agent_executor import AgentState\n",
    "from langchain_core.prompts import ChatPromptTemplate\n",
    "from langchain_core.messages import HumanMessage, AIMessage\n",
    "\n",
    "prompt = ChatPromptTemplate([\n",
    "        (\"system\", \"\"\"Eres un asistente útil. Responde solo en español.\n",
    "         Junto con la pregunta te proporciono el contexto para que puedas responder, este \n",
    "         contexto lo vas a poder encontrar de la siguiente manera:\n",
    "         Context: <contexto relacionado con la pregunta>\n",
    "         A continuacion te presento la pregunta junto con el contexto:\"\"\"),\n",
    "        (\"placeholder\", \"{messages}\"),\n",
    "    ])\n",
    "\n",
    "\n",
    "def _modify_state_messages(state: AgentState):\n",
    "    return prompt.invoke({\"messages\": state[\"messages\"]}).to_messages()\n",
    "\n",
    "\n",
    "langgraph_agent_executor = create_react_agent(\n",
    "    model, tools, state_modifier=_modify_state_messages\n",
    ")\n",
    "\n",
    "query = \"\"\"Crea un borrador para JUAN para agradecerle por el café.\n",
    "Context: JUAN es mi amigo de la secundaria y me invito a tomar un café en su casa, su correo es jorgeang03@outlook.com\"\"\"\n",
    "\n",
    "messages = langgraph_agent_executor.invoke({\n",
    "    \"messages\": [HumanMessage(content=query)]\n",
    "    })\n",
    "\n",
    "print(\n",
    "    {\n",
    "        \"input\": query,\n",
    "        \"output\": messages[\"messages\"][-1].content,\n",
    "    }\n",
    ")"
   ]
  },
  {
   "cell_type": "code",
   "execution_count": 49,
   "metadata": {},
   "outputs": [
    {
     "name": "stdout",
     "output_type": "stream",
     "text": [
      "{'input': 'Crea un borrador para Beto para decirle lo que paso con la reunión.\\nContext: Beto es un companero del trabajo, y en la reunion se acordo que ya no sera parte de la empresa, su correo es jorgeang00@icloud.com', 'output': 'Se ha creado un borrador del correo para informar a Beto sobre lo sucedido en la reunión. Puedes revisarlo en tus borradores con el ID: r-4153494255393875168.'}\n"
     ]
    }
   ],
   "source": [
    "query = \"\"\"Crea un borrador para Beto para decirle lo que paso con la reunión.\n",
    "Context: Beto es un companero del trabajo, y en la reunion se acordo que ya no sera parte de la empresa, su correo es jorgeang00@icloud.com\"\"\"\n",
    "\n",
    "messages = langgraph_agent_executor.invoke({\n",
    "    \"messages\": [HumanMessage(content=query)]\n",
    "    })\n",
    "\n",
    "print(\n",
    "    {\n",
    "        \"input\": query,\n",
    "        \"output\": messages[\"messages\"][-1].content,\n",
    "    }\n",
    ")"
   ]
  }
 ],
 "metadata": {
  "kernelspec": {
   "display_name": "zolkin-backend-dA_7IZFM",
   "language": "python",
   "name": "python3"
  },
  "language_info": {
   "codemirror_mode": {
    "name": "ipython",
    "version": 3
   },
   "file_extension": ".py",
   "mimetype": "text/x-python",
   "name": "python",
   "nbconvert_exporter": "python",
   "pygments_lexer": "ipython3",
   "version": "3.12.7"
  }
 },
 "nbformat": 4,
 "nbformat_minor": 2
}
